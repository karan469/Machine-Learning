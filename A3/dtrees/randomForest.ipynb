{
 "cells": [
  {
   "cell_type": "code",
   "execution_count": 26,
   "metadata": {},
   "outputs": [],
   "source": [
    "import numpy as np\n",
    "import pandas as pd\n",
    "from xclib.data import data_utils\n",
    "import matplotlib.pylab as plt\n",
    "from random import seed\n",
    "from random import randrange\n",
    "import math\n",
    "from sklearn.ensemble import RandomForestClassifier\n",
    "from sklearn.model_selection import GridSearchCV"
   ]
  },
  {
   "cell_type": "code",
   "execution_count": 2,
   "metadata": {},
   "outputs": [],
   "source": [
    "# paths\n",
    "data_folder_path = './data/'\n",
    "train_x_path = data_folder_path + 'train_x.txt'\n",
    "train_y_path = data_folder_path + 'train_y.txt'\n",
    "test_x_path = data_folder_path + 'test_x.txt'\n",
    "test_y_path = data_folder_path + 'test_y.txt'\n",
    "val_x_path = data_folder_path + 'valid_x.txt'\n",
    "val_y_path = data_folder_path + 'valid_y.txt'"
   ]
  },
  {
   "cell_type": "code",
   "execution_count": 3,
   "metadata": {},
   "outputs": [],
   "source": [
    "def load_y(path, size):\n",
    "    y = np.ones(size)\n",
    "    f = open(path)\n",
    "    cnt = 0\n",
    "    for x in f:\n",
    "        y[cnt] = int(x)\n",
    "        cnt += 1\n",
    "    return y"
   ]
  },
  {
   "cell_type": "code",
   "execution_count": 4,
   "metadata": {},
   "outputs": [
    {
     "name": "stderr",
     "output_type": "stream",
     "text": [
      "/home/karan/.local/lib/python3.6/site-packages/xclib-0.96-py3.6-linux-x86_64.egg/xclib/data/data_utils.py:173: UserWarning: Header mis-match from inferred shape!\n",
      "  warnings.warn(\"Header mis-match from inferred shape!\")\n"
     ]
    }
   ],
   "source": [
    "train_x = data_utils.read_sparse_file(train_x_path)\n",
    "train_y = load_y(train_y_path, train_x.shape[0])"
   ]
  },
  {
   "cell_type": "code",
   "execution_count": 5,
   "metadata": {},
   "outputs": [],
   "source": [
    "test_x = data_utils.read_sparse_file(test_x_path)\n",
    "test_y = load_y(test_y_path, test_x.shape[0])"
   ]
  },
  {
   "cell_type": "code",
   "execution_count": 23,
   "metadata": {},
   "outputs": [],
   "source": [
    "clf = RandomForestClassifier(n_estimators=100, criterion='entropy', max_depth=140, random_state=42, oob_score=True, n_jobs=-1)"
   ]
  },
  {
   "cell_type": "code",
   "execution_count": 25,
   "metadata": {},
   "outputs": [
    {
     "name": "stdout",
     "output_type": "stream",
     "text": [
      "=============REPORT=============\n",
      "Train Accuracy 0.9126914221253843\n",
      "Test Accuracy:  0.7974595521765333\n",
      "Number of features: 482\n",
      "Number of Classes: 2\n",
      "Confidence for each sample: \n",
      " [[1.         0.        ]\n",
      " [0.76315789 0.23684211]\n",
      " [0.97058824 0.02941176]\n",
      " ...\n",
      " [0.         1.        ]\n",
      " [0.         1.        ]\n",
      " [0.09090909 0.90909091]]\n"
     ]
    }
   ],
   "source": [
    "model = clf.fit(train_x, train_y)\n",
    "print('=============REPORT=============')\n",
    "print('Train Accuracy', model.score(train_x, train_y))\n",
    "print('Test Accuracy: ', model.score(test_x,test_y))\n",
    "print('Number of features: %d' % model.n_features_)\n",
    "print('Number of Classes: %d' % model.n_classes_)\n",
    "print('Confidence for each sample: \\n', model.oob_decision_function_)"
   ]
  },
  {
   "cell_type": "markdown",
   "metadata": {},
   "source": [
    "=============REPORT=============\n",
    "Train Accuracy 0.9127223278166674\n",
    "Test Accuracy:  0.7992675351165918\n",
    "Number of features: 482\n",
    "Number of Classes: 2"
   ]
  },
  {
   "cell_type": "code",
   "execution_count": 29,
   "metadata": {},
   "outputs": [],
   "source": [
    "#gridSearchCV\n",
    "n_estimators = np.array([50, 100, 200, 300, 400])\n",
    "max_depth = np.array([10, 20, 30, 40, 50])\n",
    "parameters = {'criterion': ('gini', 'entropy'), 'max_depth': max_depth, 'n_estimators': n_estimators}\n",
    "grid = GridSearchCV(clf, parameters, n_jobs=None)"
   ]
  },
  {
   "cell_type": "code",
   "execution_count": 30,
   "metadata": {},
   "outputs": [
    {
     "data": {
      "text/plain": [
       "GridSearchCV(cv=None, error_score=nan,\n",
       "             estimator=RandomForestClassifier(bootstrap=True, ccp_alpha=0.0,\n",
       "                                              class_weight=None,\n",
       "                                              criterion='entropy',\n",
       "                                              max_depth=140,\n",
       "                                              max_features='auto',\n",
       "                                              max_leaf_nodes=None,\n",
       "                                              max_samples=None,\n",
       "                                              min_impurity_decrease=0.0,\n",
       "                                              min_impurity_split=None,\n",
       "                                              min_samples_leaf=1,\n",
       "                                              min_samples_split=2,\n",
       "                                              min_weight_fraction_leaf=0.0,\n",
       "                                              n_estimators=100, n_jobs=-1,\n",
       "                                              oob_score=True, random_state=42,\n",
       "                                              verbose=0, warm_start=False),\n",
       "             iid='deprecated', n_jobs=None,\n",
       "             param_grid={'criterion': ('gini', 'entropy'),\n",
       "                         'max_depth': array([10, 20, 30, 40, 50]),\n",
       "                         'n_estimators': array([ 50, 100, 200, 300, 400])},\n",
       "             pre_dispatch='2*n_jobs', refit=True, return_train_score=False,\n",
       "             scoring=None, verbose=0)"
      ]
     },
     "execution_count": 30,
     "metadata": {},
     "output_type": "execute_result"
    }
   ],
   "source": [
    "grid"
   ]
  },
  {
   "cell_type": "code",
   "execution_count": null,
   "metadata": {},
   "outputs": [],
   "source": [
    "grid.fit(train_x, train_y)"
   ]
  },
  {
   "cell_type": "code",
   "execution_count": null,
   "metadata": {},
   "outputs": [],
   "source": []
  }
 ],
 "metadata": {
  "kernelspec": {
   "display_name": "Python 3",
   "language": "python",
   "name": "python3"
  },
  "language_info": {
   "codemirror_mode": {
    "name": "ipython",
    "version": 3
   },
   "file_extension": ".py",
   "mimetype": "text/x-python",
   "name": "python",
   "nbconvert_exporter": "python",
   "pygments_lexer": "ipython3",
   "version": "3.6.8"
  }
 },
 "nbformat": 4,
 "nbformat_minor": 2
}
