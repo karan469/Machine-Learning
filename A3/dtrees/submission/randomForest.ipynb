{
 "cells": [
  {
   "cell_type": "code",
   "execution_count": 58,
   "metadata": {},
   "outputs": [],
   "source": [
    "import numpy as np\n",
    "# import pandas as pd\n",
    "from xclib.data import data_utils\n",
    "import matplotlib.pylab as plt\n",
    "from random import seed\n",
    "from random import randrange\n",
    "import math\n",
    "from sklearn.ensemble import RandomForestClassifier\n",
    "from sklearn.model_selection import GridSearchCV\n",
    "import time"
   ]
  },
  {
   "cell_type": "code",
   "execution_count": 2,
   "metadata": {},
   "outputs": [],
   "source": [
    "# paths\n",
    "data_folder_path = './data/'\n",
    "train_x_path = data_folder_path + 'train_x.txt'\n",
    "train_y_path = data_folder_path + 'train_y.txt'\n",
    "test_x_path = data_folder_path + 'test_x.txt'\n",
    "test_y_path = data_folder_path + 'test_y.txt'\n",
    "val_x_path = data_folder_path + 'valid_x.txt'\n",
    "val_y_path = data_folder_path + 'valid_y.txt'"
   ]
  },
  {
   "cell_type": "code",
   "execution_count": 3,
   "metadata": {},
   "outputs": [],
   "source": [
    "def load_y(path, size):\n",
    "    y = np.ones(size)\n",
    "    f = open(path)\n",
    "    cnt = 0\n",
    "    for x in f:\n",
    "        y[cnt] = int(x)\n",
    "        cnt += 1\n",
    "    return y"
   ]
  },
  {
   "cell_type": "code",
   "execution_count": 4,
   "metadata": {},
   "outputs": [
    {
     "name": "stderr",
     "output_type": "stream",
     "text": [
      "/home/karan/.local/lib/python3.6/site-packages/xclib-0.96-py3.6-linux-x86_64.egg/xclib/data/data_utils.py:173: UserWarning: Header mis-match from inferred shape!\n",
      "  warnings.warn(\"Header mis-match from inferred shape!\")\n"
     ]
    }
   ],
   "source": [
    "train_x = data_utils.read_sparse_file(train_x_path)\n",
    "train_y = load_y(train_y_path, train_x.shape[0])"
   ]
  },
  {
   "cell_type": "code",
   "execution_count": 48,
   "metadata": {},
   "outputs": [
    {
     "name": "stderr",
     "output_type": "stream",
     "text": [
      "/home/karan/.local/lib/python3.6/site-packages/xclib-0.96-py3.6-linux-x86_64.egg/xclib/data/data_utils.py:173: UserWarning: Header mis-match from inferred shape!\n",
      "  warnings.warn(\"Header mis-match from inferred shape!\")\n"
     ]
    }
   ],
   "source": [
    "test_x = data_utils.read_sparse_file(test_x_path)\n",
    "test_y = load_y(test_y_path, test_x.shape[0])"
   ]
  },
  {
   "cell_type": "code",
   "execution_count": 49,
   "metadata": {},
   "outputs": [],
   "source": [
    "val_x = data_utils.read_sparse_file(val_x_path)\n",
    "val_y = load_y(val_y_path, val_x.shape[0])"
   ]
  },
  {
   "cell_type": "code",
   "execution_count": 37,
   "metadata": {},
   "outputs": [],
   "source": [
    "clf = RandomForestClassifier(n_estimators=250, criterion='entropy', max_depth=26, random_state=42, oob_score=True, n_jobs=-1, min_samples_split=5, min_samples_leaf=5, max_features=None)"
   ]
  },
  {
   "cell_type": "code",
   "execution_count": 38,
   "metadata": {},
   "outputs": [
    {
     "name": "stdout",
     "output_type": "stream",
     "text": [
      "=============REPORT=============\n",
      "Train Accuracy 0.863721354287392\n",
      "Test Accuracy:  0.8070647135175227\n",
      "Number of features: 482\n",
      "Number of Classes: 2\n",
      "Confidence for each sample: \n",
      " [[1.         0.        ]\n",
      " [0.7615143  0.2384857 ]\n",
      " [0.96908497 0.03091503]\n",
      " ...\n",
      " [0.         1.        ]\n",
      " [0.01058716 0.98941284]\n",
      " [0.24926934 0.75073066]]\n"
     ]
    }
   ],
   "source": [
    "model = clf.fit(train_x, train_y)\n",
    "print('=============REPORT=============')\n",
    "print('Train Accuracy', model.score(train_x, train_y))\n",
    "print('Test Accuracy: ', model.score(test_x,test_y))\n",
    "print('Number of features: %d' % model.n_features_)\n",
    "print('Number of Classes: %d' % model.n_classes_)\n",
    "print('Confidence for each sample: \\n', model.oob_decision_function_)"
   ]
  },
  {
   "cell_type": "markdown",
   "metadata": {},
   "source": [
    "# Report\n",
    "Train Accuracy 0.863721354287392\n",
    "Test Accuracy:  0.8070647135175227\n",
    "clf = RandomForestClassifier(n_estimators=250, criterion='entropy', max_depth=26, random_state=42, oob_score=True, n_jobs=-1, min_samples_split=5, min_samples_leaf=5, max_features=None)\n",
    "Number of features: 482\n",
    "Number of Classes: 2"
   ]
  },
  {
   "cell_type": "code",
   "execution_count": 46,
   "metadata": {},
   "outputs": [
    {
     "data": {
      "text/plain": [
       "GridSearchCV(cv=None, error_score=nan,\n",
       "             estimator=RandomForestClassifier(bootstrap=True, ccp_alpha=0.0,\n",
       "                                              class_weight=None,\n",
       "                                              criterion='entropy', max_depth=26,\n",
       "                                              max_features=2,\n",
       "                                              max_leaf_nodes=None,\n",
       "                                              max_samples=None,\n",
       "                                              min_impurity_decrease=0.0,\n",
       "                                              min_impurity_split=None,\n",
       "                                              min_samples_leaf=5,\n",
       "                                              min_samples_split=5,\n",
       "                                              min_weight_fraction_leaf=0.0,\n",
       "                                              n_estimators=250, n_jobs=-1,\n",
       "                                              oob...\n",
       "                                              verbose=0, warm_start=False),\n",
       "             iid='deprecated', n_jobs=2,\n",
       "             param_grid=[{'max_depth': [15, 18],\n",
       "                          'max_features': ('log2', 'sqrt'),\n",
       "                          'min_samples_split': [2], 'n_estimators': [250]},\n",
       "                         {'max_depth': [20, 23, 26, 29],\n",
       "                          'max_features': ('log2', 'sqrt'),\n",
       "                          'min_samples_split': [3, 4], 'n_estimators': [250]}],\n",
       "             pre_dispatch='2*n_jobs', refit=True, return_train_score=False,\n",
       "             scoring=None, verbose=0)"
      ]
     },
     "execution_count": 46,
     "metadata": {},
     "output_type": "execute_result"
    }
   ],
   "source": [
    "#gridSearchCV\n",
    "clf = RandomForestClassifier(n_estimators=250, \n",
    "                             criterion='entropy', \n",
    "                             max_depth=26, \n",
    "                             random_state=42, \n",
    "                             oob_score=True, \n",
    "                             n_jobs=-1, \n",
    "                             min_samples_split=5, \n",
    "                             min_samples_leaf=5)\n",
    "\n",
    "# parameters = [{\n",
    "#                   'max_depth': [i for i in range(15, 20)],\n",
    "#                   'min_samples_split': [i for i in range(2, 8)],\n",
    "#                   'max_features': ('log2', 'sqrt'),\n",
    "#                   'n_estimators': [100, 250]\n",
    "#               },\n",
    "#               {\n",
    "#                   'max_depth': [i for i in range(20, 30)],\n",
    "#                   'min_samples_split': [i for i in range(8, 12)],\n",
    "#                   'max_features': ('log2', 'sqrt'),\n",
    "#                   'n_estimators': [100, 250]\n",
    "#               }\n",
    "#              ]\n",
    "\n",
    "parameters = [{\n",
    "                  'max_depth': [i for i in range(15, 20, 3)],\n",
    "                  'min_samples_split': [i for i in range(2, 3)],\n",
    "                  'max_features': ('log2', 'sqrt'),\n",
    "                  'n_estimators': [250]\n",
    "              },\n",
    "              {\n",
    "                  'max_depth': [i for i in range(20, 30, 3)],\n",
    "                  'min_samples_split': [i for i in range(3, 5)],\n",
    "                  'max_features': ('log2', 'sqrt'),\n",
    "                  'n_estimators': [250]\n",
    "              }\n",
    "             ]\n",
    "\n",
    "grid = GridSearchCV(clf, parameters, cv=2, n_jobs=None)\n",
    "grid"
   ]
  },
  {
   "cell_type": "code",
   "execution_count": 50,
   "metadata": {},
   "outputs": [],
   "source": [
    "# grid.fit(train_x, train_y)"
   ]
  },
  {
   "cell_type": "code",
   "execution_count": 61,
   "metadata": {},
   "outputs": [],
   "source": [
    "# Part - d: Parameter Senstivity analysis\n",
    "\n",
    "# changing max_depth\n",
    "l_x = []\n",
    "l_depth_t = []\n",
    "l_depth_v = []\n",
    "plt.title('Accuracy v/s max_depth')\n",
    "plt.xlabel('max_depth')\n",
    "plt.ylabel('Accuracy')\n",
    "# start = time.time()\n",
    "for i in range(5, 25):\n",
    "    clf = RandomForestClassifier(n_estimators=250, \n",
    "                             criterion='entropy', \n",
    "                             max_depth=i, \n",
    "                             random_state=42, \n",
    "                             oob_score=True, \n",
    "                             n_jobs=-1, \n",
    "                             min_samples_split=5, \n",
    "                             min_samples_leaf=5, \n",
    "                             max_features='sqrt')\n",
    "    model = clf.fit(train_x, train_y)\n",
    "    l_x.append(i)\n",
    "    l_depth_t.append(model.score(test_x,test_y))\n",
    "    l_depth_v.append(model.score(val_x, val_y))\n",
    "    print(i)\n",
    "# print((time.time()-start)/60)\n",
    "plt.plot(l_x, l_depth_t, label='test acc')\n",
    "plt.plot(l_x, l_depth_v, label='val acc')\n",
    "plt.legend(loc = 'upper right')\n",
    "plt.savefig('senstivity_depth.png')"
   ]
  },
  {
   "cell_type": "code",
   "execution_count": 60,
   "metadata": {},
   "outputs": [
    {
     "data": {
      "image/png": "[encoded data removed]",
      "text/plain": [
       "<Figure size 432x288 with 1 Axes>"
      ]
     },
     "metadata": {
      "needs_background": "light"
     },
     "output_type": "display_data"
    }
   ],
   "source": [
    "# print('Time taken: %s minutes' % (time.time()-start)/60)\n",
    "plt.plot(l_x, l_depth_t, label='test acc')\n",
    "plt.plot(l_x, l_depth_v, label='val acc')\n",
    "plt.legend(loc = 'upper right')\n",
    "plt.savefig('senstivity_depth.png')"
   ]
  },
  {
   "cell_type": "code",
   "execution_count": 73,
   "metadata": {},
   "outputs": [
    {
     "name": "stdout",
     "output_type": "stream",
     "text": [
      "l_depth_t:\n",
      " [0.7414120810347226, 0.7523063372119976, 0.7614389689861388, 0.7683463909879005, 0.7735385471234528, 0.7794724398497983, 0.7823003106021974, 0.7882805618654676, 0.7928700570210004, 0.7974131936396087, 0.7981085716934774, 0.7998238375596867, 0.8011682351304993, 0.8024199156274628, 0.8041815400305966, 0.8047842010106161, 0.8045987668629178, 0.8053868619906356, 0.8057113717491076, 0.8050623522321636]\n",
      "max test accuracy: 0.8057113717491076 | Depth at max accuracy: 23\n",
      "l_depth_v:\n",
      " [0.7398943074355646, 0.7520860374559615, 0.7589931392545893, 0.7661783793806787, 0.7719265714815502, 0.7767939922121269, 0.7798998702021138, 0.7863897645095494, 0.7896347116632672, 0.7942239940663823, 0.795985536806972, 0.7989987020211385, 0.8005748192100871, 0.8015483033562025, 0.8021045800111255, 0.8034952716484332, 0.8033562024847024, 0.8041442610791767, 0.8054422399406638, 0.8047468941220101]\n",
      "max validation accuracy: 0.8054422399406638 | Depth at max accuracy: 23\n"
     ]
    }
   ],
   "source": [
    "print('l_depth_t:\\n', l_depth_t)\n",
    "print('max test accuracy: %s | Depth at max accuracy: %s'% (max(l_depth_t), l_x[l_depth_t.index(max(l_depth_t))]))\n",
    "print('l_depth_v:\\n', l_depth_v)\n",
    "print('max validation accuracy: %s | Depth at max accuracy: %s'% (max(l_depth_v), l_x[l_depth_v.index(max(l_depth_v))]))"
   ]
  },
  {
   "cell_type": "code",
   "execution_count": 74,
   "metadata": {},
   "outputs": [
    {
     "name": "stdout",
     "output_type": "stream",
     "text": [
      "4\n",
      "5\n",
      "6\n",
      "7\n",
      "8\n",
      "9\n",
      "10\n",
      "11\n",
      "12\n",
      "13\n",
      "14\n"
     ]
    },
    {
     "data": {
      "image/png": "[encoded data removed]",
      "text/plain": [
       "<Figure size 432x288 with 1 Axes>"
      ]
     },
     "metadata": {
      "needs_background": "light"
     },
     "output_type": "display_data"
    }
   ],
   "source": [
    "# changing min_samples_split\n",
    "l_x = []\n",
    "l_min_samples_split_t = []\n",
    "l_min_samples_split_v = []\n",
    "plt.xlabel('min_samples_split')\n",
    "plt.ylabel('Accuracy')\n",
    "for i in range(4, 15):\n",
    "    clf = RandomForestClassifier(n_estimators=250, \n",
    "                             criterion='entropy', \n",
    "                             max_depth=26, \n",
    "                             random_state=42, \n",
    "                             oob_score=True, \n",
    "                             n_jobs=-1, \n",
    "                             min_samples_split=i, \n",
    "                             min_samples_leaf=5, \n",
    "                             max_features='sqrt')\n",
    "    model = clf.fit(train_x, train_y)\n",
    "    l_x.append(i)\n",
    "    l_min_samples_split_t.append(model.score(test_x,test_y))\n",
    "    l_min_samples_split_v.append(model.score(val_x, val_y))\n",
    "    print(i)\n",
    "\n",
    "plt.plot(l_x, l_min_samples_split_t, label='test acc')\n",
    "plt.plot(l_x, l_min_samples_split_v, label='val acc')\n",
    "plt.legend(loc = 'upper right')\n",
    "plt.savefig('senstivity_min_samples_split.png')"
   ]
  },
  {
   "cell_type": "code",
   "execution_count": 75,
   "metadata": {},
   "outputs": [
    {
     "name": "stdout",
     "output_type": "stream",
     "text": [
      "l_min_samples_split_t:\n",
      " [0.8055722961383339, 0.8055722961383339, 0.8055722961383339, 0.8055722961383339, 0.8055722961383339, 0.8055722961383339, 0.8055722961383339, 0.8054332205275602, 0.8054795790644848, 0.8050623522321636, 0.8052014278429372]\n",
      "max test accuracy: 0.8055722961383339 | Sample split value: 4\n",
      "l_min_samples_split_v:\n",
      " [0.8061375857593176, 0.8061375857593176, 0.8061375857593176, 0.8061375857593176, 0.8061375857593176, 0.8061375857593176, 0.8061375857593176, 0.804561468570369, 0.8048859632857408, 0.8049786760615613, 0.8054422399406638]\n",
      "max validation accuracy: 0.8061375857593176 | Sample split value: 4\n"
     ]
    }
   ],
   "source": [
    "print('l_min_samples_split_t:\\n', l_min_samples_split_t)\n",
    "print('max test accuracy: %s | Sample split value: %s'% (max(l_min_samples_split_t), l_x[l_min_samples_split_t.index(max(l_min_samples_split_t))]))\n",
    "print('l_min_samples_split_v:\\n', l_min_samples_split_v)\n",
    "print('max validation accuracy: %s | Sample split value: %s'% (max(l_min_samples_split_v), l_x[l_min_samples_split_v.index(max(l_min_samples_split_v))]))"
   ]
  },
  {
   "cell_type": "code",
   "execution_count": null,
   "metadata": {},
   "outputs": [
    {
     "name": "stdout",
     "output_type": "stream",
     "text": [
      "20\n",
      "30\n",
      "40\n",
      "50\n",
      "60\n",
      "70\n",
      "80\n",
      "90\n",
      "100\n",
      "110\n",
      "120\n",
      "130\n"
     ]
    }
   ],
   "source": [
    "# changing max_features\n",
    "l_x = []\n",
    "l_max_features_t = []\n",
    "l_max_features_v = []\n",
    "plt.xlabel('max_features')\n",
    "plt.ylabel('Accuracy')\n",
    "for i in range(20, 300, 10):\n",
    "    clf = RandomForestClassifier(n_estimators=250, \n",
    "                             criterion='entropy', \n",
    "                             max_depth=26, \n",
    "                             random_state=42, \n",
    "                             oob_score=True, \n",
    "                             n_jobs=-1, \n",
    "                             min_samples_split=5, \n",
    "                             min_samples_leaf=5, \n",
    "                             max_features=i)\n",
    "    model = clf.fit(train_x, train_y)\n",
    "    l_x.append(i)\n",
    "    l_max_features_t.append(model.score(test_x,test_y))\n",
    "    l_max_features_v.append(model.score(val_x, val_y))\n",
    "    print(i)\n",
    "\n",
    "plt.plot(l_x, l_max_features_t, label='test acc')\n",
    "plt.plot(l_x, l_max_features_v, label='val acc')\n",
    "\n",
    "plt.legend(loc = 'upper right')\n",
    "plt.savefig('senstivity_max_features.png')"
   ]
  },
  {
   "cell_type": "code",
   "execution_count": null,
   "metadata": {},
   "outputs": [],
   "source": [
    "print('l_max_features_t:\\n', l_max_features_t)\n",
    "print('max test accuracy: %s | Optimal max_feature value: %s'% (max(l_max_features_t), l_x[l_max_features_t.index(max(l_max_features_t))]))\n",
    "print('l_max_features_v:\\n', l_max_features_v)\n",
    "print('max validation accuracy: %s | Optimal max_feature value: %s'% (max(l_max_features_v), l_x[l_max_features_v.index(max(l_max_features_v))]))"
   ]
  }
 ],
 "metadata": {
  "kernelspec": {
   "display_name": "Python 3",
   "language": "python",
   "name": "python3"
  },
  "language_info": {
   "codemirror_mode": {
    "name": "ipython",
    "version": 3
   },
   "file_extension": ".py",
   "mimetype": "text/x-python",
   "name": "python",
   "nbconvert_exporter": "python",
   "pygments_lexer": "ipython3",
   "version": "3.6.8"
  }
 },
 "nbformat": 4,
 "nbformat_minor": 2
}
