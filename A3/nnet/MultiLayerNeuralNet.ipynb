{
 "cells": [
  {
   "cell_type": "markdown",
   "metadata": {
    "colab_type": "text",
    "id": "RJpLf9WqFQpS"
   },
   "source": [
    "<h2>This notebook provides a general implementation of multi-layer neural network</h2>\n",
    "<h2>Aim of this notebook is to provide solutions to the A3-partb a, and b parts</h2>"
   ]
  },
  {
   "cell_type": "code",
   "execution_count": 0,
   "metadata": {
    "colab": {},
    "colab_type": "code",
    "id": "WLOvAwO1FQpT"
   },
   "outputs": [],
   "source": [
    "import numpy as np\n",
    "import matplotlib.pyplot as plt\n",
    "import pandas as pd\n",
    "import time\n",
    "import math\n",
    "from IPython.display import clear_output"
   ]
  },
  {
   "cell_type": "code",
   "execution_count": 3,
   "metadata": {
    "colab": {
     "base_uri": "https://localhost:8080/",
     "height": 306
    },
    "colab_type": "code",
    "id": "53X3Vsj7FjPZ",
    "outputId": "ba4e8fb3-4a9f-4ffd-fbe9-a26acea48569"
   },
   "outputs": [
    {
     "name": "stdout",
     "output_type": "stream",
     "text": [
      "--2020-04-21 14:15:07--  http://www.cse.iitd.ac.in/~parags/teaching/col774/assignments/ass3/datasets/alphabet.zip\n",
      "Resolving www.cse.iitd.ac.in (www.cse.iitd.ac.in)... 103.27.9.152\n",
      "Connecting to www.cse.iitd.ac.in (www.cse.iitd.ac.in)|103.27.9.152|:80... connected.\n",
      "HTTP request sent, awaiting response... 200 OK\n",
      "Length: 5156614 (4.9M) [application/zip]\n",
      "Saving to: ‘alphabet.zip.1’\n",
      "\n",
      "alphabet.zip.1      100%[===================>]   4.92M   515KB/s    in 17s     \n",
      "\n",
      "2020-04-21 14:15:25 (290 KB/s) - ‘alphabet.zip.1’ saved [5156614/5156614]\n",
      "\n",
      "--2020-04-21 14:15:25--  http://./\n",
      "Resolving . (.)... failed: No address associated with hostname.\n",
      "wget: unable to resolve host address ‘.’\n",
      "FINISHED --2020-04-21 14:15:25--\n",
      "Total wall clock time: 18s\n",
      "Downloaded: 1 files, 4.9M in 17s (290 KB/s)\n"
     ]
    }
   ],
   "source": [
    "!wget http://www.cse.iitd.ac.in/~parags/teaching/col774/assignments/ass3/datasets/alphabet.zip ./"
   ]
  },
  {
   "cell_type": "code",
   "execution_count": 4,
   "metadata": {
    "colab": {
     "base_uri": "https://localhost:8080/",
     "height": 85
    },
    "colab_type": "code",
    "id": "AVN--ZxSFxQv",
    "outputId": "f80b8ad9-06e0-4eb1-9374-543a89cbed5f"
   },
   "outputs": [
    {
     "name": "stdout",
     "output_type": "stream",
     "text": [
      "Archive:  alphabet.zip\n",
      "   creating: Alphabets/\n",
      "  inflating: Alphabets/test.csv      \n",
      "  inflating: Alphabets/train.csv     \n"
     ]
    }
   ],
   "source": [
    "!unzip alphabet.zip"
   ]
  },
  {
   "cell_type": "code",
   "execution_count": 0,
   "metadata": {
    "colab": {},
    "colab_type": "code",
    "id": "LdebQsa9FQpX"
   },
   "outputs": [],
   "source": [
    "def read_csv(filename):\n",
    "    x = []\n",
    "    y = []\n",
    "    f = open(filename, 'r')\n",
    "    for xx in f:\n",
    "        l = xx.split(',')\n",
    "        x.append([float(i)/255 for i in l[:784]])\n",
    "        y.append(int(l[784]))\n",
    "    return np.array(x), np.array(y)"
   ]
  },
  {
   "cell_type": "code",
   "execution_count": 0,
   "metadata": {
    "colab": {},
    "colab_type": "code",
    "id": "zXMUm876FQpZ"
   },
   "outputs": [],
   "source": [
    "train_x, train_y = read_csv('./Alphabets/train.csv')\n",
    "test_x, test_y = read_csv('./Alphabets/test.csv')\n",
    "# np.where(test_y == 1)[0] # returns list of indexes where alphabet in test data == 1"
   ]
  },
  {
   "cell_type": "markdown",
   "metadata": {
    "colab_type": "text",
    "id": "9ee9SywHFQpc"
   },
   "source": [
    "><h3>Part a - Building Multilayer Neural Network</h3>"
   ]
  },
  {
   "cell_type": "code",
   "execution_count": 0,
   "metadata": {
    "colab": {},
    "colab_type": "code",
    "id": "xzzLcIYCFQpd"
   },
   "outputs": [],
   "source": [
    "class Layer:\n",
    "    \"\"\"\n",
    "    A building block. Each layer is capable of performing two things:\n",
    "\n",
    "    - Process input to get output:           output = layer.forward(input)\n",
    "    \n",
    "    - Propagate gradients through itself:    grad_input = layer.backward(input, grad_output)\n",
    "    \n",
    "    Some layers also have learnable parameters which they update during layer.backward.\n",
    "    \"\"\"\n",
    "    def __init__(self):\n",
    "        \"\"\"Here we can initialize layer parameters (if any) and auxiliary stuff.\"\"\"\n",
    "        pass\n",
    "    \n",
    "    def forward(self, input):\n",
    "        \"\"\"\n",
    "        Takes input data of shape [batch, input_units], returns output data [batch, output_units]\n",
    "        \"\"\"\n",
    "        return input\n",
    "\n",
    "    def backward(self, input, grad_output):\n",
    "        \"\"\"\n",
    "        Performs a backpropagation step through the layer, with respect to the given input.\n",
    "        \"\"\"\n",
    "        num_units = input.shape[1]\n",
    "        \n",
    "        d_layer_d_input = np.eye(num_units)\n",
    "        \n",
    "        return np.dot(grad_output, d_layer_d_input) # chain rule"
   ]
  },
  {
   "cell_type": "code",
   "execution_count": 0,
   "metadata": {
    "colab": {},
    "colab_type": "code",
    "id": "BnCfSdHqFQpf"
   },
   "outputs": [],
   "source": [
    "def sigmoid(x):\n",
    "    return 1/(1+np.exp(-1*x))\n",
    "\n",
    "class ReLU(Layer):\n",
    "    def __init__(self):\n",
    "        \"\"\"ReLU layer simply applies elementwise rectified linear unit to all inputs\"\"\"\n",
    "        pass\n",
    "    \n",
    "    def forward(self, input):\n",
    "        \"\"\"Apply elementwise ReLU to [batch, input_units] matrix\"\"\"\n",
    "        relu_forward = np.maximum(0,input)\n",
    "        return relu_forward\n",
    "    \n",
    "    def backward(self, input, grad_output, itr, learning_rate='constant'):\n",
    "        \"\"\"Compute gradient of loss w.r.t. ReLU input\"\"\"\n",
    "        relu_grad = input > 0\n",
    "        return grad_output*relu_grad\n",
    "\n",
    "class Sigmoid(Layer):\n",
    "    def __init__(self):\n",
    "        \"\"\"ReLU layer simply applies elementwise rectified linear unit to all inputs\"\"\"\n",
    "        pass\n",
    "    \n",
    "    def forward(self, input):\n",
    "        \"\"\"Apply elementwise ReLU to [batch, input_units] matrix\"\"\"\n",
    "#         relu_forward = np.maximum(0,input)\n",
    "        relu_forward = sigmoid(input)\n",
    "        return relu_forward\n",
    "    \n",
    "    def backward(self, input, grad_output, itr, learning_rate='constant'):\n",
    "        \"\"\"Compute gradient of loss w.r.t. ReLU input\"\"\"\n",
    "#         print(input.shape)\n",
    "        relu_grad = sigmoid(input) * (np.ones(shape=input.shape)-sigmoid(input))\n",
    "        return grad_output*relu_grad"
   ]
  },
  {
   "cell_type": "code",
   "execution_count": 0,
   "metadata": {
    "colab": {},
    "colab_type": "code",
    "id": "_RYAz-lSFQpi"
   },
   "outputs": [],
   "source": [
    "class Dense(Layer):\n",
    "    def __init__(self, input_units, output_units, learning_rate=1):\n",
    "        \"\"\"\n",
    "        A dense layer is a layer which performs a learned affine transformation:\n",
    "        f(x) = <W*x> + b\n",
    "        \"\"\"\n",
    "        self.learning_rate = learning_rate\n",
    "        self.weights = np.random.normal(loc=0.0, \n",
    "                                        scale = np.sqrt(2/(input_units+output_units)), \n",
    "                                        size = (input_units,output_units))\n",
    "        self.biases = np.zeros(output_units)\n",
    "        \n",
    "    def forward(self,input):\n",
    "        \"\"\"\n",
    "        Perform an affine transformation:\n",
    "        f(x) = <W*x> + b\n",
    "        \n",
    "        input shape: [batch, input_units]\n",
    "        output shape: [batch, output units]\n",
    "        \"\"\"\n",
    "        return np.dot(input,self.weights) + self.biases\n",
    "    \n",
    "    def backward(self,input,grad_output,itr,learning_rate='constant'):\n",
    "        # compute d f / d x = d f / d dense * d dense / d x\n",
    "        # where d dense/ d x = weights transposed\n",
    "        grad_input = np.dot(grad_output, self.weights.T)\n",
    "        \n",
    "        # compute gradient w.r.t. weights and biases\n",
    "        grad_weights = np.dot(input.T, grad_output)\n",
    "        grad_biases = grad_output.mean(axis=0)*input.shape[0]\n",
    "        \n",
    "        assert grad_weights.shape == self.weights.shape and grad_biases.shape == self.biases.shape\n",
    "        \n",
    "        # Here we perform a stochastic gradient descent step. \n",
    "        if(learning_rate=='constant'):\n",
    "            self.weights = self.weights - self.learning_rate * grad_weights\n",
    "            self.biases = self.biases - self.learning_rate * grad_biases\n",
    "        elif(learning_rate=='adaptive'):\n",
    "            self.weights = self.weights - self.learning_rate * grad_weights * 0.5 / (itr)\n",
    "            self.biases = self.biases - self.learning_rate * grad_biases * 0.5 / (itr)\n",
    "        return grad_input"
   ]
  },
  {
   "cell_type": "code",
   "execution_count": 0,
   "metadata": {
    "colab": {},
    "colab_type": "code",
    "id": "tfHiUvJUFQpk"
   },
   "outputs": [],
   "source": [
    "def Encode(input, output_dim):\n",
    "    res = np.zeros(shape=(len(input), output_dim))\n",
    "    cnt = 0\n",
    "    for i in input:\n",
    "        res[cnt][i] = 1\n",
    "        cnt+=1\n",
    "    return res"
   ]
  },
  {
   "cell_type": "code",
   "execution_count": 0,
   "metadata": {
    "colab": {},
    "colab_type": "code",
    "id": "tfp_WoUWFQpn"
   },
   "outputs": [],
   "source": [
    "def mse_loss(logits, reference_answers):\n",
    "    probs = [sigmoid(x) for x in logits]\n",
    "    \n",
    "    return (np.sum([np.sum(i) for i in (probs-Encode(reference_answers,logits.shape[1]))])/(2*logits.shape[1]))\n",
    "\n",
    "def grad_mse(logits, reference_answers):\n",
    "    probs = [sigmoid(x) for x in logits]\n",
    "    \n",
    "    return (probs-Encode(reference_answers,logits.shape[1]))/(logits.shape[1])\n",
    "\n",
    "def softmax_crossentropy_with_logits(logits,reference_answers):\n",
    "    \"\"\"Compute crossentropy from logits[batch,n_classes] and ids of correct answers\"\"\"\n",
    "    probs = [sigmoid(x) for x in logits]\n",
    "\n",
    "    logits_for_answers = logits[np.arange(len(logits)),reference_answers]\n",
    "    \n",
    "    xentropy = - logits_for_answers + np.log(np.sum(np.exp(logits),axis=-1))\n",
    "    \n",
    "    return xentropy\n",
    "\n",
    "def grad_softmax_crossentropy_with_logits(logits,reference_answers):\n",
    "    \"\"\"Compute crossentropy gradient from logits[batch,n_classes] and ids of correct answers\"\"\"\n",
    "    ones_for_answers = np.zeros_like(logits)\n",
    "    ones_for_answers[np.arange(len(logits)),reference_answers] = 1\n",
    "    \n",
    "    softmax = np.exp(logits) / np.exp(logits).sum(axis=-1,keepdims=True)\n",
    "    \n",
    "    return (- ones_for_answers + softmax) / logits.shape[0]"
   ]
  },
  {
   "cell_type": "code",
   "execution_count": 0,
   "metadata": {
    "colab": {},
    "colab_type": "code",
    "id": "BmWS39LtFQpp"
   },
   "outputs": [],
   "source": [
    "def forward(network, X):\n",
    "    \"\"\"\n",
    "    Compute activations of all network layers by applying them sequentially.\n",
    "    Return a list of activations for each layer. \n",
    "    \"\"\"\n",
    "    activations = []\n",
    "    input = X\n",
    "\n",
    "    # Looping through each layer\n",
    "    for l in network:\n",
    "        activations.append(l.forward(input))\n",
    "        # Updating input to last layer output\n",
    "        input = activations[-1]\n",
    "    \n",
    "    assert len(activations) == len(network)\n",
    "    return activations\n",
    "\n",
    "def predict(network,X):\n",
    "    \"\"\"\n",
    "    Compute network predictions. Returning indices of largest Logit probability\n",
    "    \"\"\"\n",
    "    logits = forward(network,X)[-1]\n",
    "#     print([sigmoid(i) for i in logits])\n",
    "    return logits.argmax(axis=-1)\n",
    "#     return [sigmoid(i) for i in logits]\n",
    "\n",
    "def train(network,X,y,loss='mse',itr=1,learning_rate='constant'):\n",
    "    \"\"\"\n",
    "    Train our network on a given batch of X and y.\n",
    "    We first need to run forward to get all layer activations.\n",
    "    Then we can run layer.backward going from last to first layer.\n",
    "    After we have called backward for all layers, all Dense layers have already made one gradient step.\n",
    "    \"\"\"\n",
    "    \n",
    "    # Get the layer activations\n",
    "    layer_activations = forward(network,X)\n",
    "    layer_inputs = [X]+layer_activations  #layer_input[i] is an input for network[i]\n",
    "    logits = layer_activations[-1]\n",
    "    \n",
    "    # Compute the loss and the initial gradient\n",
    "    if(loss=='crossentropy'):\n",
    "        loss = softmax_crossentropy_with_logits(logits,y)\n",
    "        loss_grad = grad_softmax_crossentropy_with_logits(logits,y)\n",
    "    elif(loss=='mse'):\n",
    "        loss = mse_loss(logits, y)\n",
    "        loss_grad = grad_mse(logits, y)\n",
    "    else:\n",
    "        exit(1)\n",
    "#     assert(loss=='mse' or loss=='crossentropy')\n",
    "    \n",
    "    # Propagate gradients through the network\n",
    "    # Reverse propogation as this is backprop\n",
    "    for layer_index in range(len(network))[::-1]:\n",
    "        layer = network[layer_index]\n",
    "        \n",
    "        loss_grad = layer.backward(layer_inputs[layer_index],loss_grad,itr,learning_rate=learning_rate) #grad w.r.t. input, also weight updates\n",
    "        \n",
    "    return np.mean(loss)"
   ]
  },
  {
   "cell_type": "markdown",
   "metadata": {},
   "source": [
    ">For every iteration in backward propogation, learning rate is decreasing inversly proportional"
   ]
  },
  {
   "cell_type": "code",
   "execution_count": 0,
   "metadata": {
    "colab": {},
    "colab_type": "code",
    "id": "UmjUOhXhFQps"
   },
   "outputs": [],
   "source": [
    "from tqdm import trange\n",
    "from tqdm import tqdm as bae\n",
    "def iterate_minibatches(inputs, targets, batchsize, shuffle=False):\n",
    "    assert len(inputs) == len(targets)\n",
    "    if shuffle:\n",
    "        indices = np.random.permutation(len(inputs))\n",
    "    for start_idx in trange(0, len(inputs) - batchsize + 1, batchsize):\n",
    "        if shuffle:\n",
    "            excerpt = indices[start_idx:start_idx + batchsize]\n",
    "        else:\n",
    "            excerpt = slice(start_idx, start_idx + batchsize)\n",
    "        yield inputs[excerpt], targets[excerpt]"
   ]
  },
  {
   "cell_type": "code",
   "execution_count": 0,
   "metadata": {
    "colab": {},
    "colab_type": "code",
    "id": "xI_kkH9uFQpu"
   },
   "outputs": [],
   "source": [
    "# re = 2\n",
    "# for i in bae(range(7000000)):\n",
    "#     re += 1"
   ]
  },
  {
   "cell_type": "code",
   "execution_count": 0,
   "metadata": {
    "colab": {},
    "colab_type": "code",
    "id": "7d7GRhi1FQpy"
   },
   "outputs": [],
   "source": [
    "# from sklearn.preprocessing import OneHotEncoder\n",
    "# enc = OneHotEncoder(handle_unknown='ignore')\n",
    "# enc.fit(test_y.reshape(-1, 1))\n",
    "# test_y = enc.transform(test_y.reshape(-1,1)).toarray()\n",
    "# train_y = enc.transform(train_y.reshape(-1,1)).toarray()"
   ]
  },
  {
   "cell_type": "code",
   "execution_count": 0,
   "metadata": {
    "colab": {},
    "colab_type": "code",
    "id": "JGHvi7fjFQp0"
   },
   "outputs": [],
   "source": [
    "X_train, X_val = train_x[:-3000], train_x[-3000:]\n",
    "y_train, y_val = train_y[:-3000], train_y[-3000:]\n",
    "X_test, y_test = test_x, test_y"
   ]
  },
  {
   "cell_type": "code",
   "execution_count": 0,
   "metadata": {
    "colab": {},
    "colab_type": "code",
    "id": "RwjytrVwFQp3"
   },
   "outputs": [],
   "source": [
    "# enc.inverse_transform(y_train).reshape(-1)[i]"
   ]
  },
  {
   "cell_type": "code",
   "execution_count": 12,
   "metadata": {
    "colab": {
     "base_uri": "https://localhost:8080/",
     "height": 275
    },
    "colab_type": "code",
    "id": "Vx3npULXFQp5",
    "outputId": "2d894228-9ffe-4b49-9e19-30ee620e978d"
   },
   "outputs": [
    {
     "data": {
      "image/png": "[encoded data removed]",
      "text/plain": [
       "<Figure size 432x432 with 6 Axes>"
      ]
     },
     "metadata": {
      "needs_background": "light",
      "tags": []
     },
     "output_type": "display_data"
    }
   ],
   "source": [
    "## Let's look at some example\n",
    "plt.figure(figsize=[6,6])\n",
    "for i in range(3,9):\n",
    "    plt.subplot(3,3,i+1)\n",
    "    plt.title(\"Label: %i\"%y_train[i])\n",
    "    plt.imshow(X_train[i].reshape([28,28]),cmap='gray');"
   ]
  },
  {
   "cell_type": "code",
   "execution_count": 0,
   "metadata": {
    "colab": {},
    "colab_type": "code",
    "id": "Q_HRyC-9FQp8"
   },
   "outputs": [],
   "source": [
    "# Hyper-parameters\n",
    "lr = 0.1\n",
    "arch = [100]\n",
    "mini_batch_size = 100\n",
    "r = 26"
   ]
  },
  {
   "cell_type": "code",
   "execution_count": 0,
   "metadata": {
    "colab": {},
    "colab_type": "code",
    "id": "0aP8yaJsFQp-"
   },
   "outputs": [],
   "source": [
    "network = []\n",
    "prev = train_x.shape[1]\n",
    "for i in range(len(arch)):\n",
    "    network.append(Dense(prev, arch[i]))\n",
    "    network.append(Sigmoid())\n",
    "    prev = arch[i]\n",
    "network.append(Dense(100, r))"
   ]
  },
  {
   "cell_type": "code",
   "execution_count": 0,
   "metadata": {
    "colab": {},
    "colab_type": "code",
    "id": "r_fs4RqDFQqB"
   },
   "outputs": [],
   "source": [
    "from IPython.display import clear_output\n",
    "train_log = []\n",
    "val_log = []\n",
    "test_log = []"
   ]
  },
  {
   "cell_type": "code",
   "execution_count": 0,
   "metadata": {
    "colab": {},
    "colab_type": "code",
    "id": "eEIDtzlLFQqD",
    "outputId": "cbdad0db-289e-4bf7-a790-a47eb3ea4db0",
    "scrolled": true
   },
   "outputs": [
    {
     "name": "stdout",
     "output_type": "stream",
     "text": [
      "Epoch 99\n",
      "Train accuracy: 0.9933\n",
      "Val accuracy: 0.9163333333333333\n",
      "Test accuracy:  0.9027692307692308\n"
     ]
    },
    {
     "data": {
      "image/png": "[encoded data removed]",
      "text/plain": [
       "<Figure size 432x288 with 1 Axes>"
      ]
     },
     "metadata": {
      "needs_background": "light",
      "tags": []
     },
     "output_type": "display_data"
    }
   ],
   "source": [
    "for epoch in range(100):\n",
    "\n",
    "    for x_batch,y_batch in iterate_minibatches(X_train,y_train,batchsize=mini_batch_size,shuffle=True):\n",
    "        train(network,x_batch,y_batch,itr=math.sqrt(epoch),loss='mse',learning_rate='constant')\n",
    "    \n",
    "    train_log.append(np.mean(predict(network,X_train)==y_train))\n",
    "    val_log.append(np.mean(predict(network,X_val)==y_val))\n",
    "    test_log.append(np.mean(predict(network, X_test)==y_test))\n",
    "    \n",
    "    clear_output()\n",
    "    print(\"Epoch\",epoch)\n",
    "    print(\"Train accuracy:\",train_log[-1])\n",
    "    print(\"Val accuracy:\",val_log[-1])\n",
    "    print(\"Test accuracy: \", test_log[-1])\n",
    "    plt.plot(train_log,label='train accuracy')\n",
    "    plt.plot(val_log,label='val accuracy')\n",
    "    plt.plot(test_log, label='test accuracy')\n",
    "    plt.legend(loc='best')\n",
    "    plt.grid()\n",
    "    plt.show()"
   ]
  },
  {
   "cell_type": "markdown",
   "metadata": {
    "colab_type": "text",
    "id": "CvzmTNdrFQqF"
   },
   "source": [
    "<h4>nnet params:</h4>\n",
    "Epoch 100<br>\n",
    "Loss='mse' | Activation='Sigmoid' | Architecture=[100] | lr=0.1<br>\n",
    "<h4>Result of part-a</h4>\n",
    "Train accuracy: 0.9941<br>\n",
    "Val accuracy: 0.912<br>\n",
    "Test accuracy:  0.9070769230769231<br>"
   ]
  },
  {
   "cell_type": "markdown",
   "metadata": {
    "colab_type": "text",
    "id": "FC8dOalEFQqG"
   },
   "source": [
    "><h3>Part b - Varying single hidden layer size</h3>"
   ]
  },
  {
   "cell_type": "code",
   "execution_count": 0,
   "metadata": {
    "colab": {},
    "colab_type": "code",
    "id": "w5RqdlcBFQqG"
   },
   "outputs": [],
   "source": [
    "def run_nnet(hyperparams, output_dest):\n",
    "    network = []\n",
    "    prev = train_x.shape[1]\n",
    "    for i in range(len(hyperparams['arch'])):\n",
    "        network.append(Dense(prev, hyperparams['arch'][i]))\n",
    "        if(hyperparams['activation']=='sigmoid'):\n",
    "          network.append(Sigmoid())\n",
    "        elif(hyperparams['activation']=='relu'):\n",
    "          network.append(ReLU())\n",
    "        else:\n",
    "          print('Wrong activation biatch..')\n",
    "          exit(1)\n",
    "        prev = hyperparams['arch'][i]\n",
    "    network.append(Dense(prev, hyperparams['r']))\n",
    "    \n",
    "    train_log = []\n",
    "    val_log = []\n",
    "    test_log = []\n",
    "    \n",
    "    epoch = 0\n",
    "    while(True):\n",
    "    # for epoch in range(20):\n",
    "        if(epoch>6 and abs(np.average(train_log[-5:])-train_log[-6])<0.0001):\n",
    "          break\n",
    "        cnt=1\n",
    "        for x_batch,y_batch in iterate_minibatches(X_train,y_train,batchsize=hyperparams['mini_batch_size'],shuffle=True):\n",
    "            train(network,x_batch,y_batch,itr=cnt,learning_rate=hyperparams['learning_rate'],loss=hyperparams['loss'])\n",
    "            cnt+=1\n",
    "        train_log.append(np.mean(predict(network,X_train)==y_train))\n",
    "        val_log.append(np.mean(predict(network,X_val)==y_val))\n",
    "        test_log.append(np.mean(predict(network, X_test)==y_test))\n",
    "\n",
    "        clear_output()\n",
    "        print(\"Epoch\",epoch)\n",
    "        print(\"Train accuracy:\",train_log[-1])\n",
    "        print(\"Val accuracy:\",val_log[-1])\n",
    "        print(\"Test accuracy: \", test_log[-1])\n",
    "        epoch += 1\n",
    "    plt.plot(train_log,label='train accuracy')\n",
    "    plt.plot(val_log,label='val accuracy')\n",
    "    plt.plot(test_log, label='test accuracy')\n",
    "    plt.legend(loc='best')\n",
    "    plt.grid()\n",
    "    plt.savefig('./results/'+output_dest+'/'+str(hyperparams['arch'])+'_layer_size.png')\n",
    "    plt.clf()\n",
    "    \n",
    "    return train_log[-1], test_log[-1]"
   ]
  },
  {
   "cell_type": "code",
   "execution_count": 0,
   "metadata": {
    "colab": {},
    "colab_type": "code",
    "id": "bAVqh5x1FQqI"
   },
   "outputs": [],
   "source": [
    "hyperparams = {'arch': [100], 'r': 26, 'lr': 0.1, 'mini_batch_size': 100, 'loss': 'mse', 'learning_rate':'constant', 'activation':'sigmoid'}\n",
    "archlist = [1, 5, 10, 50, 100]\n",
    "yy_train = []\n",
    "yy_test = []\n",
    "time_l = []\n",
    "for i in (archlist):\n",
    "    hyperparams['arch'] = [i]\n",
    "    start = time.time()\n",
    "    train_acc, test_acc = run_nnet(hyperparams, output_dest='b')\n",
    "    yy_train.append(train_acc)\n",
    "    yy_test.append(test_acc)\n",
    "    time_l.append(time.time()-start)\n",
    "\n",
    "plt.plot(archlist, yy_train, label = 'training acc')\n",
    "plt.plot(archlist, yy_test, label = 'testing acc')\n",
    "plt.legend(loc='best')\n",
    "plt.grid()\n",
    "plt.savefig('./results/b/'+'acc_vs_layer_size'+'.png')\n",
    "plt.clf()"
   ]
  },
  {
   "cell_type": "code",
   "execution_count": 0,
   "metadata": {
    "colab": {},
    "colab_type": "code",
    "id": "uiuwsHZ-FQqK"
   },
   "outputs": [],
   "source": [
    "print('Layer size vs exec. time:')\n",
    "for i in range(len(archlist)):\n",
    "    print('%d|%s|%s|%s|' % (archlist[i], str(time_l[i]), yy_train[i], yy_test[i]))"
   ]
  },
  {
   "cell_type": "markdown",
   "metadata": {
    "colab_type": "text",
    "id": "pxZ6Gp-qFQqN"
   },
   "source": [
    "<center><h3>Layer size vs exec. time [100 epochs with Sigmoid]:</h3></center>\n",
    "<center><b>Model Details:</b> Arch: [100], r: 26, lr: 0.1, mini_batch_size: 100, Loss: 'mse','learning_rate':'constant</center>"
   ]
  },
  {
   "cell_type": "markdown",
   "metadata": {
    "colab_type": "text",
    "id": "fwH_48QDFQqO"
   },
   "source": [
    "|Layer Size|Exec Time (sec)|Train Accuracy|Test Accuracy|\n",
    "|----------|---------|--------------|-------------|\n",
    "1|48.07287645339966|0.1068|0.10538461538461538|\n",
    "5|55.723833322525024|0.6203|0.5678461538461539|\n",
    "10|56.60548114776611|0.8197|0.7309230769230769|\n",
    "50|79.56502532958984|0.978|0.8803076923076923|\n",
    "100|112.03223538398743|0.9926|0.9018461538461539|"
   ]
  },
  {
   "cell_type": "markdown",
   "metadata": {
    "colab_type": "text",
    "id": "BVHV_0DhVmrJ"
   },
   "source": [
    "<h3>Part C - Adaptive Learning</h3>\n"
   ]
  },
  {
   "cell_type": "code",
   "execution_count": 0,
   "metadata": {
    "colab": {},
    "colab_type": "code",
    "id": "i3h_VDVVqMAH"
   },
   "outputs": [],
   "source": [
    "hyperparams = {'arch': [100], 'r': 26, 'lr': 1, 'mini_batch_size': 100, 'loss': 'mse', 'learning_rate':'adaptive', 'activation':'sigmoid'}\n",
    "\n",
    "network = []\n",
    "prev = train_x.shape[1]\n",
    "for i in range(len(hyperparams['arch'])):\n",
    "    network.append(Dense(prev, hyperparams['arch'][i]))\n",
    "    if(hyperparams['activation']=='sigmoid'):\n",
    "      network.append(Sigmoid())\n",
    "    elif(hyperparams['activation']=='relu'):\n",
    "      network.append(ReLU())\n",
    "    else:\n",
    "      print('Wrong activation biatch..')\n",
    "      exit(1)\n",
    "    prev = hyperparams['arch'][i]\n",
    "network.append(Dense(prev, hyperparams['r']))\n",
    "\n",
    "train_log = []\n",
    "val_log = []\n",
    "test_log = []"
   ]
  },
  {
   "cell_type": "code",
   "execution_count": 34,
   "metadata": {
    "colab": {
     "base_uri": "https://localhost:8080/",
     "height": 333
    },
    "colab_type": "code",
    "id": "lp25s4lvqkOP",
    "outputId": "fa210769-144c-491d-b2bb-fc6308f51850"
   },
   "outputs": [
    {
     "name": "stdout",
     "output_type": "stream",
     "text": [
      "Epoch 99\n",
      "Train accuracy: 0.8705\n",
      "Val accuracy: 0.8533333333333334\n",
      "Test accuracy:  0.8335384615384616\n"
     ]
    },
    {
     "data": {
      "image/png": "[encoded data removed]",
      "text/plain": [
       "<Figure size 432x288 with 1 Axes>"
      ]
     },
     "metadata": {
      "needs_background": "light",
      "tags": []
     },
     "output_type": "display_data"
    }
   ],
   "source": [
    "for epoch in range(100):\n",
    "    cnt=1\n",
    "    for x_batch,y_batch in iterate_minibatches(X_train,y_train,batchsize=hyperparams['mini_batch_size'],shuffle=True):\n",
    "        train(network,x_batch,y_batch,itr=math.sqrt(cnt),learning_rate=hyperparams['learning_rate'],loss=hyperparams['loss'])\n",
    "        cnt+=1\n",
    "    train_log.append(np.mean(predict(network,X_train)==y_train))\n",
    "    val_log.append(np.mean(predict(network,X_val)==y_val))\n",
    "    test_log.append(np.mean(predict(network, X_test)==y_test))\n",
    "\n",
    "    clear_output()\n",
    "    print(\"Epoch\",epoch)\n",
    "    print(\"Train accuracy:\",train_log[-1])\n",
    "    print(\"Val accuracy:\",val_log[-1])\n",
    "    print(\"Test accuracy: \", test_log[-1])\n",
    "    plt.plot(train_log,label='train accuracy')\n",
    "    plt.plot(val_log,label='val accuracy')\n",
    "    plt.plot(test_log, label='test accuracy')\n",
    "    plt.legend(loc='best')\n",
    "    plt.grid()\n",
    "    plt.show()"
   ]
  },
  {
   "cell_type": "code",
   "execution_count": 32,
   "metadata": {
    "colab": {
     "base_uri": "https://localhost:8080/",
     "height": 34
    },
    "colab_type": "code",
    "id": "nWe34uad21QJ",
    "outputId": "58f2e301-128f-437f-befd-6d459d387273"
   },
   "outputs": [
    {
     "name": "stdout",
     "output_type": "stream",
     "text": [
      "[-0.27386128 -0.09128709  0.09128709  0.27386128]\n"
     ]
    }
   ],
   "source": [
    "a = np.array([1,2,3,4])\n",
    "print((a - np.average(a)) / np.linalg.norm(a))"
   ]
  },
  {
   "cell_type": "markdown",
   "metadata": {},
   "source": [
    "<h4>Report:</h4>\n",
    "\n",
    "Here we could increase the number of epochs since the error is being minimized by using adaptive learning.<br>\n",
    "250 epochs used for every size of layer. Although, smaller size architectures require less epochs.\n",
    "The convergence condition will take care of that."
   ]
  },
  {
   "cell_type": "markdown",
   "metadata": {
    "colab_type": "text",
    "id": "aqH_V7JAqXlM"
   },
   "source": [
    "<h3>For variable numbers of hidden layer units:</h3>"
   ]
  },
  {
   "cell_type": "code",
   "execution_count": 17,
   "metadata": {
    "colab": {
     "base_uri": "https://localhost:8080/",
     "height": 102
    },
    "colab_type": "code",
    "id": "w_4DguacSE_a",
    "outputId": "ce170e8a-b7d2-4348-80ad-f312107a8e03"
   },
   "outputs": [
    {
     "name": "stdout",
     "output_type": "stream",
     "text": [
      "Epoch 249\n",
      "Train accuracy: 0.849\n",
      "Val accuracy: 0.8413333333333334\n",
      "Test accuracy:  0.820923076923077\n"
     ]
    },
    {
     "data": {
      "text/plain": [
       "<Figure size 432x288 with 0 Axes>"
      ]
     },
     "metadata": {
      "tags": []
     },
     "output_type": "display_data"
    }
   ],
   "source": [
    "hyperparams = {'arch': [100], 'r': 26, 'lr': 0.1, 'mini_batch_size': 100, 'loss': 'mse', 'learning_rate':'adaptive', 'activation':'sigmoid'}\n",
    "archlist = [1, 5, 10, 50, 100]\n",
    "yy_train = []\n",
    "yy_test = []\n",
    "time_l = []\n",
    "for i in (archlist):\n",
    "    hyperparams['arch'] = [i]\n",
    "    start = time.time()\n",
    "    train_acc, test_acc = run_nnet(hyperparams, output_dest='c')\n",
    "    yy_train.append(train_acc)\n",
    "    yy_test.append(test_acc)\n",
    "    time_l.append(time.time()-start)\n",
    "\n",
    "plt.plot(archlist, yy_train, label = 'training acc')\n",
    "plt.plot(archlist, yy_test, label = 'testing acc')\n",
    "plt.legend(loc='best')\n",
    "plt.grid()\n",
    "plt.savefig('./results/c/'+'acc_vs_layer_size'+'.png')\n",
    "plt.clf()"
   ]
  },
  {
   "cell_type": "code",
   "execution_count": 28,
   "metadata": {
    "colab": {
     "base_uri": "https://localhost:8080/",
     "height": 119
    },
    "colab_type": "code",
    "id": "4nmOGb9DVkQV",
    "outputId": "a291f3fc-3342-4b05-e7ca-51d4e97ffe4e"
   },
   "outputs": [
    {
     "name": "stdout",
     "output_type": "stream",
     "text": [
      "Layer size vs exec. time:\n",
      "1|121.19889783859253|0.0825|0.084|\n",
      "5|136.91906642913818|0.4938|0.48830769230769233|\n",
      "10|142.9232461452484|0.7101|0.6796923076923077|\n",
      "50|200.8067603111267|0.8441|0.806923076923077|\n",
      "100|283.5222330093384|0.849|0.820923076923077|\n"
     ]
    }
   ],
   "source": [
    "print('Layer size vs exec. time:')\n",
    "for i in range(len(archlist)):\n",
    "    print('%d|%s|%s|%s|' % (archlist[i], str(time_l[i]), yy_train[i], yy_test[i]))"
   ]
  },
  {
   "cell_type": "markdown",
   "metadata": {
    "colab_type": "text",
    "id": "W5Aw9j74zkaL"
   },
   "source": [
    "<center><h3>Layer size vs exec. time [250 epochs with Sigmoid]:</h3></center>\n",
    "<center><b>Model Details:</b> Arch: [100] | r: 26 | lr: 1 | mini_batch_size: 100 | Loss: 'mse'| Learning_rate:'adaptive'</center>"
   ]
  },
  {
   "cell_type": "markdown",
   "metadata": {
    "colab_type": "text",
    "id": "kDPIiKBTy_VT"
   },
   "source": [
    "|Layer Size|Exec Time (sec)|Train Accuracy|Test Accuracy|\n",
    "|----------|---------|--------------|-------------|\n",
    "1|121.19889783859253|0.0825|0.084|\n",
    "5|136.91906642913818|0.4938|0.48830769230769233|\n",
    "10|142.9232461452484|0.7101|0.6796923076923077|\n",
    "50|200.8067603111267|0.8441|0.806923076923077|\n",
    "100|283.5222330093384|0.849|0.820923076923077|"
   ]
  },
  {
   "cell_type": "markdown",
   "metadata": {},
   "source": [
    "Report: \n",
    "Exec time is larger than the previous parts since we are running 10 times more number of epochs.\n",
    "But the average exec time per epoch in part-c and part-b is nearly same, even with the major difference being adaptive learning rate in part-c."
   ]
  },
  {
   "cell_type": "markdown",
   "metadata": {
    "colab_type": "text",
    "id": "w3CxIfGdBBig"
   },
   "source": [
    "<h3>Part d - Introduction of 2 hidden layers and ReLU</h3>"
   ]
  },
  {
   "cell_type": "code",
   "execution_count": 0,
   "metadata": {
    "colab": {},
    "colab_type": "code",
    "id": "LuqIocgVBEdW"
   },
   "outputs": [],
   "source": [
    "hyperparams = {'arch': [100, 100], 'r': 26, 'lr': 0.1, 'mini_batch_size': 100, 'loss': 'mse', 'learning_rate':'adaptive', 'activation':'relu'}\n",
    "\n",
    "network = []\n",
    "prev = train_x.shape[1]\n",
    "for i in range(len(hyperparams['arch'])):\n",
    "    network.append(Dense(prev, hyperparams['arch'][i]))\n",
    "    if(hyperparams['activation']=='sigmoid'):\n",
    "      network.append(Sigmoid())\n",
    "    elif(hyperparams['activation']=='relu'):\n",
    "      network.append(ReLU())\n",
    "    else:\n",
    "      print('Wrong activation biatch..')\n",
    "      exit(1)\n",
    "    prev = hyperparams['arch'][i]\n",
    "network.append(Dense(prev, hyperparams['r']))\n",
    "\n",
    "train_log = []\n",
    "val_log = []\n",
    "test_log = []"
   ]
  },
  {
   "cell_type": "code",
   "execution_count": 44,
   "metadata": {
    "colab": {
     "base_uri": "https://localhost:8080/",
     "height": 333
    },
    "colab_type": "code",
    "id": "mCYSQQZYCI5E",
    "outputId": "e61f63e9-368b-46c5-9b82-732d542e6ced"
   },
   "outputs": [
    {
     "name": "stdout",
     "output_type": "stream",
     "text": [
      "Epoch 106\n",
      "Train accuracy: 0.9965\n",
      "Val accuracy: 0.92\n",
      "Test accuracy:  0.9144615384615384\n"
     ]
    },
    {
     "data": {
      "image/png": "[encoded data removed]",
      "text/plain": [
       "<Figure size 432x288 with 1 Axes>"
      ]
     },
     "metadata": {
      "needs_background": "light",
      "tags": []
     },
     "output_type": "display_data"
    }
   ],
   "source": [
    "epoch = 0\n",
    "while(True):\n",
    "# for epoch in range(20):\n",
    "    if(epoch>6 and abs(np.average(train_log[-5:])-train_log[-6])<0.0001):\n",
    "      break\n",
    "    cnt=1\n",
    "    for x_batch,y_batch in iterate_minibatches(X_train,y_train,batchsize=hyperparams['mini_batch_size'],shuffle=True):\n",
    "        train(network,x_batch,y_batch,itr=math.sqrt(cnt),learning_rate=hyperparams['learning_rate'],loss=hyperparams['loss'])\n",
    "        cnt+=1\n",
    "    train_log.append(np.mean(predict(network,X_train)==y_train))\n",
    "    val_log.append(np.mean(predict(network,X_val)==y_val))\n",
    "    test_log.append(np.mean(predict(network, X_test)==y_test))\n",
    "\n",
    "    clear_output()\n",
    "    print(\"Epoch\",epoch)\n",
    "    print(\"Train accuracy:\",train_log[-1])\n",
    "    print(\"Val accuracy:\",val_log[-1])\n",
    "    print(\"Test accuracy: \", test_log[-1])\n",
    "    plt.plot(train_log,label='train accuracy')\n",
    "    plt.plot(val_log,label='val accuracy')\n",
    "    plt.plot(test_log, label='test accuracy')\n",
    "    plt.legend(loc='best')\n",
    "    plt.grid()\n",
    "    plt.show()\n",
    "    epoch += 1"
   ]
  },
  {
   "cell_type": "markdown",
   "metadata": {
    "colab_type": "text",
    "id": "pd9aHI-BT8If"
   },
   "source": [
    "<h4>Model:</h4>\n",
    "\n",
    ">hyperparams = {'arch': [100, 100], 'r': 26, 'lr': 0.1, 'mini_batch_size': 100, 'loss': 'mse', 'learning_rate':'adaptive', 'activation':'relu'}\n",
    "\n",
    "\n",
    "Epochs 106\n",
    "1. Train accuracy: 0.9965\n",
    "2. Val accuracy: 0.92\n",
    "3. Test accuracy:  0.9144615384615384"
   ]
  },
  {
   "cell_type": "markdown",
   "metadata": {
    "colab_type": "text",
    "id": "jxoOy_wMHadM"
   },
   "source": [
    "<h3>Part e - sklearn.MLPClassifier</h3>"
   ]
  },
  {
   "cell_type": "code",
   "execution_count": 0,
   "metadata": {
    "colab": {},
    "colab_type": "code",
    "id": "aCZ9v8Y6HbqD"
   },
   "outputs": [],
   "source": [
    "from sklearn.neural_network import MLPClassifier\n",
    "clf = MLPClassifier(hidden_layer_sizes=(100, 100), activation='relu', solver='sgd', learning_rate='adaptive', batch_size=100, max_iter=250)"
   ]
  },
  {
   "cell_type": "code",
   "execution_count": 51,
   "metadata": {
    "colab": {
     "base_uri": "https://localhost:8080/",
     "height": 71
    },
    "colab_type": "code",
    "id": "RetodrjtHmw9",
    "outputId": "89c0d8ef-ee8a-48ef-fb8a-e0d901d96dea"
   },
   "outputs": [
    {
     "name": "stderr",
     "output_type": "stream",
     "text": [
      "/usr/local/lib/python3.6/dist-packages/sklearn/neural_network/_multilayer_perceptron.py:571: ConvergenceWarning: Stochastic Optimizer: Maximum iterations (250) reached and the optimization hasn't converged yet.\n",
      "  % self.max_iter, ConvergenceWarning)\n"
     ]
    }
   ],
   "source": [
    "history = clf.fit(train_x, train_y)"
   ]
  },
  {
   "cell_type": "code",
   "execution_count": 56,
   "metadata": {
    "colab": {
     "base_uri": "https://localhost:8080/",
     "height": 279
    },
    "colab_type": "code",
    "id": "lw8X79PLLS7F",
    "outputId": "effceeef-136e-464e-a122-650b05698edf"
   },
   "outputs": [
    {
     "data": {
      "image/png": "[encoded data removed]",
      "text/plain": [
       "<Figure size 432x288 with 1 Axes>"
      ]
     },
     "metadata": {
      "needs_background": "light",
      "tags": []
     },
     "output_type": "display_data"
    }
   ],
   "source": [
    "loss_values = history.loss_curve_\n",
    "history.\n",
    "epochs = range(1, len(loss_values)+1)\n",
    "\n",
    "plt.plot(epochs, loss_values, label='Training Loss')\n",
    "plt.xlabel('Epochs')\n",
    "plt.ylabel('Loss')\n",
    "plt.legend()\n",
    "plt.grid()\n",
    "plt.show()"
   ]
  },
  {
   "cell_type": "code",
   "execution_count": 59,
   "metadata": {
    "colab": {
     "base_uri": "https://localhost:8080/",
     "height": 51
    },
    "colab_type": "code",
    "id": "6l6PIKn8IUdw",
    "outputId": "6290f074-6280-4ce7-8c54-039204a4a30b"
   },
   "outputs": [
    {
     "name": "stdout",
     "output_type": "stream",
     "text": [
      "Train Accuracy:  0.9874615384615385\n",
      "Test Accuracy:  0.9041538461538462\n"
     ]
    }
   ],
   "source": [
    "print('Train Accuracy: ', clf.score(train_x, train_y))\n",
    "print('Test Accuracy: ', clf.score(test_x, test_y))"
   ]
  },
  {
   "cell_type": "markdown",
   "metadata": {
    "colab_type": "text",
    "id": "Ws1k4mOlLdws"
   },
   "source": [
    "<h3>Part F - Self Implementation till part d + cross-entropy loss</h3>"
   ]
  },
  {
   "cell_type": "code",
   "execution_count": 0,
   "metadata": {
    "colab": {},
    "colab_type": "code",
    "id": "u4iICa25LwKD"
   },
   "outputs": [],
   "source": [
    "hyperparams = {'arch': [100, 100], 'r': 26, 'lr': 0.1, 'mini_batch_size': 100, 'loss': 'crossentropy', 'learning_rate':'adaptive', 'activation':'relu'}\n",
    "\n",
    "network = []\n",
    "prev = train_x.shape[1]\n",
    "for i in range(len(hyperparams['arch'])):\n",
    "    network.append(Dense(prev, hyperparams['arch'][i]))\n",
    "    if(hyperparams['activation']=='sigmoid'):\n",
    "      network.append(Sigmoid())\n",
    "    elif(hyperparams['activation']=='relu'):\n",
    "      network.append(ReLU())\n",
    "    else:\n",
    "      print('Wrong activation biatch..')\n",
    "      exit(1)\n",
    "    prev = hyperparams['arch'][i]\n",
    "network.append(Dense(prev, hyperparams['r']))\n",
    "\n",
    "train_log = []\n",
    "val_log = []\n",
    "test_log = []"
   ]
  },
  {
   "cell_type": "code",
   "execution_count": 65,
   "metadata": {
    "colab": {
     "base_uri": "https://localhost:8080/",
     "height": 334
    },
    "colab_type": "code",
    "id": "IJGsy7t2OR5f",
    "outputId": "a2b6dab8-7e5e-4697-be1d-65c593a5c372"
   },
   "outputs": [
    {
     "name": "stdout",
     "output_type": "stream",
     "text": [
      "Epoch 203\n",
      "Train accuracy: 0.9733\n",
      "Val accuracy: 0.9006666666666666\n",
      "Test accuracy:  0.8918461538461538\n"
     ]
    },
    {
     "data": {
      "image/png": "[encoded data removed]",
      "text/plain": [
       "<Figure size 432x288 with 1 Axes>"
      ]
     },
     "metadata": {
      "needs_background": "light",
      "tags": []
     },
     "output_type": "display_data"
    }
   ],
   "source": [
    "epoch = 0\n",
    "epoch_loss = []\n",
    "while(True):\n",
    "# for epoch in range(20):\n",
    "    if(epoch>6 and abs(np.average(train_log[-5:])-train_log[-6])<0.0001):\n",
    "      break\n",
    "    cnt=1\n",
    "    mini_batch_loss = []\n",
    "    for x_batch,y_batch in iterate_minibatches(X_train,y_train,batchsize=hyperparams['mini_batch_size'],shuffle=True):\n",
    "        temp = train(network,x_batch,y_batch,itr=math.sqrt(cnt),learning_rate=hyperparams['learning_rate'],loss=hyperparams['loss'])\n",
    "        mini_batch_loss.append(temp)\n",
    "        cnt+=1\n",
    "    \n",
    "    mini_batch_loss = np.array(mini_batch_loss)\n",
    "    epoch_loss.append(np.average(mini_batch_loss))\n",
    "\n",
    "    train_log.append(np.mean(predict(network,X_train)==y_train))\n",
    "    val_log.append(np.mean(predict(network,X_val)==y_val))\n",
    "    test_log.append(np.mean(predict(network, X_test)==y_test))\n",
    "\n",
    "    clear_output()\n",
    "    print(\"Epoch\",epoch)\n",
    "    print(\"Train accuracy:\",train_log[-1])\n",
    "    print(\"Val accuracy:\",val_log[-1])\n",
    "    print(\"Test accuracy: \", test_log[-1])\n",
    "    plt.plot(train_log,label='train accuracy')\n",
    "    plt.plot(val_log,label='val accuracy')\n",
    "    plt.plot(test_log, label='test accuracy')\n",
    "    plt.legend(loc='best')\n",
    "    plt.grid()\n",
    "    plt.show()\n",
    "    epoch += 1"
   ]
  },
  {
   "cell_type": "code",
   "execution_count": 69,
   "metadata": {
    "colab": {
     "base_uri": "https://localhost:8080/",
     "height": 295
    },
    "colab_type": "code",
    "id": "qgaeNKtmSnnb",
    "outputId": "3cf1c9f7-9d9d-4a7e-fb03-290c43421ac2"
   },
   "outputs": [
    {
     "data": {
      "image/png": "[encoded data removed]",
      "text/plain": [
       "<Figure size 432x288 with 1 Axes>"
      ]
     },
     "metadata": {
      "needs_background": "light",
      "tags": []
     },
     "output_type": "display_data"
    }
   ],
   "source": [
    "loss_values = epoch_loss\n",
    "epochs = range(1, len(loss_values)+1)\n",
    "plt.title('(Part f) Cross Entropy Loss vs Epochs')\n",
    "plt.plot(epochs, loss_values, label='Training Loss')\n",
    "plt.xlabel('Epochs')\n",
    "plt.ylabel('Loss')\n",
    "plt.legend()\n",
    "plt.grid()\n",
    "plt.show()"
   ]
  }
 ],
 "metadata": {
  "colab": {
   "collapsed_sections": [],
   "name": "a_b.ipynb",
   "provenance": []
  },
  "kernelspec": {
   "display_name": "Python 3",
   "language": "python",
   "name": "python3"
  },
  "language_info": {
   "codemirror_mode": {
    "name": "ipython",
    "version": 3
   },
   "file_extension": ".py",
   "mimetype": "text/x-python",
   "name": "python",
   "nbconvert_exporter": "python",
   "pygments_lexer": "ipython3",
   "version": "3.6.8"
  }
 },
 "nbformat": 4,
 "nbformat_minor": 1
}
