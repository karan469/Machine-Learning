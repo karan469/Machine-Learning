{
 "cells": [
  {
   "cell_type": "markdown",
   "metadata": {},
   "source": [
    "<h2>This notebook provides a general implementation of multi-layer neural network</h2>\n",
    "<h3>Aim of this notebook is to provide solutions to the A3-partb c part</h3>"
   ]
  },
  {
   "cell_type": "code",
   "execution_count": 1,
   "metadata": {},
   "outputs": [],
   "source": [
    "import numpy as np\n",
    "import matplotlib.pyplot as plt\n",
    "import pandas as pd\n",
    "import time"
   ]
  },
  {
   "cell_type": "code",
   "execution_count": 2,
   "metadata": {},
   "outputs": [],
   "source": [
    "def read_csv(filename):\n",
    "    x = []\n",
    "    y = []\n",
    "    f = open(filename, 'r')\n",
    "    for xx in f:\n",
    "        l = xx.split(',')\n",
    "        x.append([float(i)/255 for i in l[:784]])\n",
    "        y.append(int(l[784]))\n",
    "    return np.array(x), np.array(y)"
   ]
  },
  {
   "cell_type": "code",
   "execution_count": 3,
   "metadata": {},
   "outputs": [],
   "source": [
    "train_x, train_y = read_csv('./Alphabets/train.csv')\n",
    "test_x, test_y = read_csv('./Alphabets/test.csv')\n",
    "# np.where(test_y == 1)[0] # returns list of indexes where alphabet in test data == 1"
   ]
  },
  {
   "cell_type": "markdown",
   "metadata": {},
   "source": [
    "<h3>Part a - Building Multilayer Neural Network</h3>"
   ]
  },
  {
   "cell_type": "code",
   "execution_count": 4,
   "metadata": {},
   "outputs": [],
   "source": [
    "# Hyper-parameters\n",
    "lr = 0.1\n",
    "arch = [100]\n",
    "mini_batch_size = 100\n",
    "r = 26"
   ]
  },
  {
   "cell_type": "code",
   "execution_count": 7,
   "metadata": {},
   "outputs": [],
   "source": [
    "class Layer:\n",
    "    \"\"\"\n",
    "    A building block. Each layer is capable of performing two things:\n",
    "\n",
    "    - Process input to get output:           output = layer.forward(input)\n",
    "    \n",
    "    - Propagate gradients through itself:    grad_input = layer.backward(input, grad_output)\n",
    "    \n",
    "    Some layers also have learnable parameters which they update during layer.backward.\n",
    "    \"\"\"\n",
    "    def __init__(self):\n",
    "        \"\"\"Here we can initialize layer parameters (if any) and auxiliary stuff.\"\"\"\n",
    "        pass\n",
    "    \n",
    "    def forward(self, input):\n",
    "        \"\"\"\n",
    "        Takes input data of shape [batch, input_units], returns output data [batch, output_units]\n",
    "        \"\"\"\n",
    "        return input\n",
    "\n",
    "    def backward(self, input, grad_output):\n",
    "        \"\"\"\n",
    "        Performs a backpropagation step through the layer, with respect to the given input.\n",
    "        \n",
    "        To compute loss gradients w.r.t input, we need to apply chain rule (backprop):\n",
    "        \n",
    "        d loss / d x  = (d loss / d layer) * (d layer / d x)\n",
    "        \n",
    "        Luckily, we already receive d loss / d layer as input, so you only need to multiply it by d layer / d x.\n",
    "        \n",
    "        If our layer has parameters (e.g. dense layer), we also need to update them here using d loss / d layer\n",
    "        \"\"\"\n",
    "        num_units = input.shape[1]\n",
    "        \n",
    "        d_layer_d_input = np.eye(num_units)\n",
    "        \n",
    "        return np.dot(grad_output, d_layer_d_input) # chain rule"
   ]
  },
  {
   "cell_type": "code",
   "execution_count": 23,
   "metadata": {},
   "outputs": [],
   "source": [
    "def sigmoid(x):\n",
    "    return [(1/(1+np.exp(-1*i))) for i in x]\n",
    "\n",
    "class ReLU(Layer):\n",
    "    def __init__(self):\n",
    "        \"\"\"ReLU layer simply applies elementwise rectified linear unit to all inputs\"\"\"\n",
    "        pass\n",
    "    \n",
    "    def forward(self, input):\n",
    "        \"\"\"Apply elementwise ReLU to [batch, input_units] matrix\"\"\"\n",
    "        relu_forward = np.maximum(0,input)\n",
    "        return relu_forward\n",
    "    \n",
    "    def backward(self, input, grad_output, itr):\n",
    "        \"\"\"Compute gradient of loss w.r.t. ReLU input\"\"\"\n",
    "        relu_grad = input > 0\n",
    "        return grad_output*relu_grad\n",
    "\n",
    "# class Sigmoid(Layer):\n",
    "#     def __init__(self):\n",
    "#         \"\"\"ReLU layer simply applies elementwise rectified linear unit to all inputs\"\"\"\n",
    "#         pass\n",
    "    \n",
    "#     def forward(self, input):\n",
    "#         \"\"\"Apply elementwise ReLU to [batch, input_units] matrix\"\"\"\n",
    "#         sigmoid_forward = 1/(1 + np.exp(-1*input))\n",
    "#         return sigmoid_forward\n",
    "    \n",
    "#     def backward(self, input, grad_output):\n",
    "#         \"\"\"Compute gradient of loss w.r.t. ReLU input\"\"\"\n",
    "#         sigmoid_grad = input * (1-input)\n",
    "#         return grad_output*sigmoid_grad"
   ]
  },
  {
   "cell_type": "code",
   "execution_count": 24,
   "metadata": {},
   "outputs": [],
   "source": [
    "class Dense(Layer):\n",
    "    def __init__(self, input_units, output_units, learning_rate=0.1):\n",
    "        \"\"\"\n",
    "        A dense layer is a layer which performs a learned affine transformation:\n",
    "        f(x) = <W*x> + b\n",
    "        \"\"\"\n",
    "        self.learning_rate = learning_rate\n",
    "        self.weights = np.random.normal(loc=0.0, \n",
    "                                        scale = np.sqrt(2/(input_units+output_units)), \n",
    "                                        size = (input_units,output_units))\n",
    "        self.biases = np.zeros(output_units)\n",
    "        \n",
    "    def forward(self,input):\n",
    "        \"\"\"\n",
    "        Perform an affine transformation:\n",
    "        f(x) = <W*x> + b\n",
    "        \n",
    "        input shape: [batch, input_units]\n",
    "        output shape: [batch, output units]\n",
    "        \"\"\"\n",
    "        return np.dot(input,self.weights) + self.biases\n",
    "    \n",
    "    def backward(self,input,grad_output, itr):\n",
    "        # compute d f / d x = d f / d dense * d dense / d x\n",
    "        # where d dense/ d x = weights transposed\n",
    "        grad_input = np.dot(grad_output, self.weights.T)\n",
    "        \n",
    "        # compute gradient w.r.t. weights and biases\n",
    "        grad_weights = np.dot(input.T, grad_output)\n",
    "        grad_biases = grad_output.mean(axis=0)*input.shape[0]\n",
    "        \n",
    "        assert grad_weights.shape == self.weights.shape and grad_biases.shape == self.biases.shape\n",
    "        \n",
    "        # Here we perform a stochastic gradient descent step. \n",
    "        self.weights = self.weights - self.learning_rate * grad_weights * 0.5 / (itr)\n",
    "        self.biases = self.biases - self.learning_rate * grad_biases\n",
    "        \n",
    "        return grad_input"
   ]
  },
  {
   "cell_type": "markdown",
   "metadata": {},
   "source": [
    ">For every iteration in backward propogation, learning rate is decreasing inversly proportional"
   ]
  },
  {
   "cell_type": "code",
   "execution_count": 25,
   "metadata": {},
   "outputs": [],
   "source": [
    "def softmax_crossentropy_with_logits(logits,reference_answers):\n",
    "    \"\"\"Compute crossentropy from logits[batch,n_classes] and ids of correct answers\"\"\"\n",
    "    logits_for_answers = logits[np.arange(len(logits)),reference_answers]\n",
    "    \n",
    "    xentropy = - logits_for_answers + np.log(np.sum(np.exp(logits),axis=-1))\n",
    "    \n",
    "    return xentropy\n",
    "\n",
    "def grad_softmax_crossentropy_with_logits(logits,reference_answers):\n",
    "    \"\"\"Compute crossentropy gradient from logits[batch,n_classes] and ids of correct answers\"\"\"\n",
    "    ones_for_answers = np.zeros_like(logits)\n",
    "    ones_for_answers[np.arange(len(logits)),reference_answers] = 1\n",
    "    \n",
    "    softmax = np.exp(logits) / np.exp(logits).sum(axis=-1,keepdims=True)\n",
    "    \n",
    "    return (- ones_for_answers + softmax) / logits.shape[0]"
   ]
  },
  {
   "cell_type": "code",
   "execution_count": 26,
   "metadata": {},
   "outputs": [],
   "source": [
    "def forward(network, X):\n",
    "    \"\"\"\n",
    "    Compute activations of all network layers by applying them sequentially.\n",
    "    Return a list of activations for each layer. \n",
    "    \"\"\"\n",
    "    activations = []\n",
    "    input = X\n",
    "\n",
    "    # Looping through each layer\n",
    "    for l in network:\n",
    "        activations.append(l.forward(input))\n",
    "        # Updating input to last layer output\n",
    "        input = activations[-1]\n",
    "    \n",
    "    assert len(activations) == len(network)\n",
    "    return activations\n",
    "\n",
    "def predict(network,X):\n",
    "    \"\"\"\n",
    "    Compute network predictions. Returning indices of largest Logit probability\n",
    "    \"\"\"\n",
    "    logits = forward(network,X)[-1]\n",
    "#     print([sigmoid(i) for i in logits])\n",
    "    return logits.argmax(axis=-1)\n",
    "#     return [sigmoid(i) for i in logits]\n",
    "\n",
    "def train(network,X,y,itr):\n",
    "    \"\"\"\n",
    "    Train our network on a given batch of X and y.\n",
    "    We first need to run forward to get all layer activations.\n",
    "    Then we can run layer.backward going from last to first layer.\n",
    "    After we have called backward for all layers, all Dense layers have already made one gradient step.\n",
    "    \"\"\"\n",
    "    \n",
    "    # Get the layer activations\n",
    "    layer_activations = forward(network,X)\n",
    "    layer_inputs = [X]+layer_activations  #layer_input[i] is an input for network[i]\n",
    "    logits = layer_activations[-1]\n",
    "    \n",
    "    # Compute the loss and the initial gradient\n",
    "    loss = softmax_crossentropy_with_logits(logits,y)\n",
    "    loss_grad = grad_softmax_crossentropy_with_logits(logits,y)\n",
    "    \n",
    "    # Propagate gradients through the network\n",
    "    # Reverse propogation as this is backprop\n",
    "    for layer_index in range(len(network))[::-1]:\n",
    "        layer = network[layer_index]\n",
    "        \n",
    "        loss_grad = layer.backward(layer_inputs[layer_index],loss_grad, itr) #grad w.r.t. input, also weight updates\n",
    "        \n",
    "    return np.mean(loss)"
   ]
  },
  {
   "cell_type": "code",
   "execution_count": 27,
   "metadata": {},
   "outputs": [],
   "source": [
    "from tqdm import trange\n",
    "from tqdm import tqdm as bae\n",
    "def iterate_minibatches(inputs, targets, batchsize, shuffle=False):\n",
    "    assert len(inputs) == len(targets)\n",
    "    if shuffle:\n",
    "        indices = np.random.permutation(len(inputs))\n",
    "    for start_idx in trange(0, len(inputs) - batchsize + 1, batchsize):\n",
    "        if shuffle:\n",
    "            excerpt = indices[start_idx:start_idx + batchsize]\n",
    "        else:\n",
    "            excerpt = slice(start_idx, start_idx + batchsize)\n",
    "        yield inputs[excerpt], targets[excerpt]"
   ]
  },
  {
   "cell_type": "code",
   "execution_count": 28,
   "metadata": {},
   "outputs": [],
   "source": [
    "# re = 2\n",
    "# for i in bae(range(7000000)):\n",
    "#     re += 1"
   ]
  },
  {
   "cell_type": "code",
   "execution_count": 29,
   "metadata": {},
   "outputs": [],
   "source": [
    "# from sklearn.preprocessing import OneHotEncoder\n",
    "# enc = OneHotEncoder(handle_unknown='ignore')\n",
    "# enc.fit(test_y.reshape(-1, 1))\n",
    "# test_y = enc.transform(test_y.reshape(-1,1)).toarray()\n",
    "# train_y = enc.transform(train_y.reshape(-1,1)).toarray()"
   ]
  },
  {
   "cell_type": "code",
   "execution_count": 30,
   "metadata": {},
   "outputs": [],
   "source": [
    "X_train, X_val = train_x[:-3000], train_x[-3000:]\n",
    "y_train, y_val = train_y[:-3000], train_y[-3000:]\n",
    "X_test, y_test = test_x, test_y"
   ]
  },
  {
   "cell_type": "code",
   "execution_count": 31,
   "metadata": {},
   "outputs": [],
   "source": [
    "# enc.inverse_transform(y_train).reshape(-1)[i]"
   ]
  },
  {
   "cell_type": "code",
   "execution_count": 32,
   "metadata": {},
   "outputs": [
    {
     "data": {
      "image/png": "[encoded data removed]",
      "text/plain": [
       "<Figure size 432x432 with 6 Axes>"
      ]
     },
     "metadata": {
      "needs_background": "light"
     },
     "output_type": "display_data"
    }
   ],
   "source": [
    "## Let's look at some example\n",
    "plt.figure(figsize=[6,6])\n",
    "for i in range(3,9):\n",
    "    plt.subplot(3,3,i+1)\n",
    "    plt.title(\"Label: %i\"%y_train[i])\n",
    "    plt.imshow(X_train[i].reshape([28,28]),cmap='gray');"
   ]
  },
  {
   "cell_type": "code",
   "execution_count": 33,
   "metadata": {},
   "outputs": [],
   "source": [
    "network = []\n",
    "prev = train_x.shape[1]\n",
    "for i in range(len(arch)):\n",
    "    network.append(Dense(prev, arch[i], 1))\n",
    "    network.append(ReLU())\n",
    "    prev = arch[i]\n",
    "network.append(Dense(100, r))\n",
    "# network.append(Dense(train_x.shape[1], 100))"
   ]
  },
  {
   "cell_type": "code",
   "execution_count": 34,
   "metadata": {},
   "outputs": [],
   "source": [
    "from IPython.display import clear_output\n",
    "train_log = []\n",
    "val_log = []\n",
    "test_log = []"
   ]
  },
  {
   "cell_type": "code",
   "execution_count": 47,
   "metadata": {
    "scrolled": true
   },
   "outputs": [
    {
     "name": "stdout",
     "output_type": "stream",
     "text": [
      "Epoch 39\n",
      "Train accuracy: 0.9675\n",
      "Val accuracy: 0.887\n",
      "Test accuracy:  0.8769230769230769\n"
     ]
    },
    {
     "data": {
      "image/png": "[encoded data removed]",
      "text/plain": [
       "<Figure size 432x288 with 1 Axes>"
      ]
     },
     "metadata": {
      "needs_background": "light"
     },
     "output_type": "display_data"
    }
   ],
   "source": [
    "for epoch in range(340):\n",
    "    cnt = 1\n",
    "    for x_batch,y_batch in iterate_minibatches(X_train,y_train,batchsize=mini_batch_size,shuffle=True):\n",
    "        train(network,x_batch,y_batch,cnt)\n",
    "        cnt += 1\n",
    "    \n",
    "    train_log.append(np.mean(predict(network,X_train)==y_train))\n",
    "    val_log.append(np.mean(predict(network,X_val)==y_val))\n",
    "    test_log.append(np.mean(predict(network, X_test)==y_test))\n",
    "    \n",
    "    clear_output()\n",
    "    print(\"Epoch\",epoch)\n",
    "    print(\"Train accuracy:\",train_log[-1])\n",
    "    print(\"Val accuracy:\",val_log[-1])\n",
    "    print(\"Test accuracy: \", test_log[-1])\n",
    "    plt.plot(train_log,label='train accuracy')\n",
    "    plt.plot(val_log,label='val accuracy')\n",
    "    plt.plot(test_log, label='test accuracy')\n",
    "    plt.legend(loc='best')\n",
    "    plt.grid()\n",
    "    plt.show()"
   ]
  },
  {
   "cell_type": "markdown",
   "metadata": {},
   "source": [
    "<h5>Result of part-c</h5>\n",
    "Epoch 39<br>\n",
    "Train accuracy: 0.9675<br>\n",
    "Val accuracy: 0.887<br>\n",
    "Test accuracy:  0.8769230769230769<br>\n",
    "<h5>Report:</h5>\n",
    "Here we could increase the number of epochs since the error is being minimized by using adaptive learning.<br>\n",
    "300 epochs used for every size of layer. Although, smaller size architectures require less epochs"
   ]
  },
  {
   "cell_type": "markdown",
   "metadata": {},
   "source": [
    "<h3>Part c - Adaptive learning</h3>"
   ]
  },
  {
   "cell_type": "code",
   "execution_count": 50,
   "metadata": {},
   "outputs": [],
   "source": [
    "hyperparams = {'arch': [100], 'r': 26, 'lr': 1, 'mini_batch_size': 100}\n",
    "\n",
    "def run_nnet(hyperparams):\n",
    "    network = []\n",
    "    prev = train_x.shape[1]\n",
    "    for i in range(len(hyperparams['arch'])):\n",
    "        network.append(Dense(prev, hyperparams['arch'][i]))\n",
    "        network.append(ReLU())\n",
    "        prev = hyperparams['arch'][i]\n",
    "    network.append(Dense(prev, hyperparams['r']))\n",
    "    \n",
    "    train_log = []\n",
    "    val_log = []\n",
    "    test_log = []\n",
    "    \n",
    "    for epoch in range(300):\n",
    "        cnt = 1\n",
    "        for x_batch,y_batch in iterate_minibatches(X_train,y_train,batchsize=hyperparams['mini_batch_size'],shuffle=True):\n",
    "            train(network,x_batch,y_batch, cnt)\n",
    "            cnt += 1\n",
    "\n",
    "        train_log.append(np.mean(predict(network,X_train)==y_train))\n",
    "        val_log.append(np.mean(predict(network,X_val)==y_val))\n",
    "        test_log.append(np.mean(predict(network, X_test)==y_test))\n",
    "\n",
    "        clear_output()\n",
    "        print(\"Epoch\",epoch)\n",
    "        print(\"Train accuracy:\",train_log[-1])\n",
    "        print(\"Val accuracy:\",val_log[-1])\n",
    "        print(\"Test accuracy: \", test_log[-1])\n",
    "    plt.plot(train_log,label='train accuracy')\n",
    "    plt.plot(val_log,label='val accuracy')\n",
    "    plt.plot(test_log, label='test accuracy')\n",
    "    plt.legend(loc='best')\n",
    "    plt.grid()\n",
    "    plt.savefig('./results/c/'+str(hyperparams['arch'][0])+'_layer_size.png')\n",
    "    plt.clf()\n",
    "    \n",
    "    return train_log[-1], test_log[-1]"
   ]
  },
  {
   "cell_type": "code",
   "execution_count": 51,
   "metadata": {},
   "outputs": [
    {
     "name": "stdout",
     "output_type": "stream",
     "text": [
      "Epoch 299\n",
      "Train accuracy: 0.8872\n",
      "Val accuracy: 0.8563333333333333\n",
      "Test accuracy:  0.8375384615384616\n"
     ]
    },
    {
     "data": {
      "text/plain": [
       "<Figure size 432x288 with 0 Axes>"
      ]
     },
     "metadata": {},
     "output_type": "display_data"
    }
   ],
   "source": [
    "archlist = [1, 5, 10, 50, 100]\n",
    "yy_train = []\n",
    "yy_test = []\n",
    "time_l = []\n",
    "for i in (archlist):\n",
    "    hyperparams['arch'] = [i]\n",
    "    start = time.time()\n",
    "    train_acc, test_acc = run_nnet(hyperparams)\n",
    "    yy_train.append(train_acc)\n",
    "    yy_test.append(test_acc)\n",
    "    time_l.append(time.time()-start)\n",
    "\n",
    "plt.plot(archlist, yy_train, label = 'training acc')\n",
    "plt.plot(archlist, yy_test, label = 'testing acc')\n",
    "plt.legend(loc='best')\n",
    "plt.grid()\n",
    "plt.savefig('./results/c/'+'acc_vs_layer_size'+'.png')\n",
    "plt.clf()"
   ]
  },
  {
   "cell_type": "code",
   "execution_count": 52,
   "metadata": {},
   "outputs": [
    {
     "name": "stdout",
     "output_type": "stream",
     "text": [
      "train accuracy [0.1377, 0.6491, 0.8105, 0.8739, 0.8872]\n",
      "test accuracy [0.14492307692307693, 0.6115384615384616, 0.7710769230769231, 0.8253846153846154, 0.8375384615384616]\n",
      "Layer size vs exec. time:\n",
      "For layer size = 1, time for exec = 33.80345273017883\n",
      "For layer size = 5, time for exec = 56.65539479255676\n",
      "For layer size = 10, time for exec = 72.42800402641296\n",
      "For layer size = 50, time for exec = 115.6198239326477\n",
      "For layer size = 100, time for exec = 158.5820710659027\n"
     ]
    }
   ],
   "source": [
    "print('train accuracy',yy_train)\n",
    "print('test accuracy',yy_test)\n",
    "print('Layer size vs exec. time:')\n",
    "for i in range(len(archlist)):\n",
    "    print('For layer size = %d, time for exec = %s' % (archlist[i], str(time_l[i])))"
   ]
  },
  {
   "cell_type": "markdown",
   "metadata": {},
   "source": [
    "<h5>Report:</h5>\n",
    "train accuracy [0.1377, 0.6491, 0.8105, 0.8739, 0.8872] <br>\n",
    "test accuracy [0.14492307692307693, 0.6115384615384616, 0.7710769230769231, 0.8253846153846154, 0.8375384615384616]<br>\n",
    "<h5>Layer size vs exec. time:</h5>\n",
    "For layer size = 1, time for exec = 33.80345273017883<br>\n",
    "For layer size = 5, time for exec = 56.65539479255676<br>\n",
    "For layer size = 10, time for exec = 72.42800402641296<br>\n",
    "For layer size = 50, time for exec = 115.6198239326477<br>\n",
    "For layer size = 100, time for exec = 158.5820710659027<br>\n",
    "<h5>Report: </h5>\n",
    "Exec time is larger than the previous parts since we are running 10 times more number of epochs.<br>\n",
    "But the average exec time per epoch in part-c and part-b is nearly same, even with the major difference being adaptive learning rate in part-c."
   ]
  },
  {
   "cell_type": "code",
   "execution_count": null,
   "metadata": {},
   "outputs": [],
   "source": []
  }
 ],
 "metadata": {
  "kernelspec": {
   "display_name": "Python 3",
   "language": "python",
   "name": "python3"
  },
  "language_info": {
   "codemirror_mode": {
    "name": "ipython",
    "version": 3
   },
   "file_extension": ".py",
   "mimetype": "text/x-python",
   "name": "python",
   "nbconvert_exporter": "python",
   "pygments_lexer": "ipython3",
   "version": "3.7.0b4"
  }
 },
 "nbformat": 4,
 "nbformat_minor": 2
}
