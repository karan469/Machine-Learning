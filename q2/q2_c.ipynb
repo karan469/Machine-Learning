{
 "cells": [
  {
   "cell_type": "code",
   "execution_count": null,
   "metadata": {},
   "outputs": [],
   "source": [
    "import numpy as np\n",
    "from matplotlib import pyplot as plt\n",
    "from mpl_toolkits.mplot3d import Axes3D\n",
    "\n",
    "# Params\n",
    "lr = 0.001\n",
    "batch_size = 10000\n",
    "SAMPLING_NUM = 1000000\n",
    "COST_THRESHOLD = 2.78937307e-04"
   ]
  },
  {
   "cell_type": "code",
   "execution_count": null,
   "metadata": {},
   "outputs": [],
   "source": [
    "# INIT\n",
    "params = np.zeros(shape = (3,1))\n",
    "params[0][0] = 3\n",
    "params[1][0] = 1\n",
    "params[2][0] = 2\n",
    "x_data = np.ones(shape=(SAMPLING_NUM,3)) # 1, x1, x2\n",
    "y_data = np.zeros(shape = (SAMPLING_NUM, 1)) # y\n",
    "noise = np.zeros(shape = (SAMPLING_NUM, 1))\n",
    "noise[:,0] = np.random.normal(0, 1.414, SAMPLING_NUM)\n",
    "x_data[:,1] = np.random.normal(3, 2, SAMPLING_NUM)\n",
    "x_data[:,2] = np.random.normal(-1, 2, SAMPLING_NUM)"
   ]
  },
  {
   "cell_type": "code",
   "execution_count": null,
   "metadata": {},
   "outputs": [],
   "source": [
    "y_data = np.dot(x_data, params)\n",
    "# print('BEFORE: ',y_data)\n",
    "# print('NOiSE: ', noise)\n",
    "y_data = np.add(y_data, noise)\n",
    "# print('AFTER: ', y_data)\n",
    "print(params.T[0].shape)\n",
    "print(x_data[0].shape)\n",
    "print(y_data[0])\n",
    "print(3/2)"
   ]
  },
  {
   "cell_type": "code",
   "execution_count": null,
   "metadata": {},
   "outputs": [],
   "source": [
    "plt.title(\"Data Set Q2 - sampled\") \n",
    "plt.xlabel(\"x1\") \n",
    "plt.ylabel(\"x2\") \n",
    "plt.plot(x_data[:,1], x_data[:,2], \"ob\")\n",
    "plt.show()\n",
    "# print(int(y_data.shape[0]))"
   ]
  },
  {
   "cell_type": "code",
   "execution_count": null,
   "metadata": {},
   "outputs": [],
   "source": [
    "def cost(x_data, y_data, params):\n",
    "    sum = 0\n",
    "    for i in range(y_data.shape[0]):\n",
    "        sum = sum + ((1/y_data.shape[0])*(y_data[i]-np.dot(params, x_data[i]))**2)/2\n",
    "#         print('b')\n",
    "#     print('Cost: %s \\n' % str(sum))\n",
    "    return sum\n",
    "#     return False if (sum < 0.1) else True"
   ]
  },
  {
   "cell_type": "code",
   "execution_count": null,
   "metadata": {},
   "outputs": [],
   "source": [
    "from os import system\n",
    "from IPython.display import clear_output\n",
    "def sgd_main(x_data, y_data):\n",
    "    m = int(y_data.shape[0])\n",
    "    r = batch_size\n",
    "    theta = np.ones(shape = (1, 3))\n",
    "    epoch = 0\n",
    "    while(cost(x_data, y_data, theta)>COST_THRESHOLD):\n",
    "        p = 0\n",
    "        while(p <= m):    \n",
    "            clear_output(wait=True)\n",
    "            print('=================EPOCH %s=================' % epoch)\n",
    "            for i in range(p, r+p):\n",
    "                gradient = np.zeros(3)\n",
    "                for j in range(3):\n",
    "                    gradient[j] += ((y_data[i] - np.dot(theta, x_data[i])) * x_data[i][j])/r\n",
    "                    theta[0][j] += lr * gradient[j]\n",
    "            print('Batch %s out of %s batches\\n' % (p/r, m/r))\n",
    "            print(theta[0])\n",
    "            p += r\n",
    "            if(p == m):\n",
    "                break\n",
    "#             if(cost(x_data, y_data, theta)<COST_THRESHOLD):\n",
    "#                 print(theta[0])\n",
    "#                 break;\n",
    "            validation_cost = 0\n",
    "            if(p>0):\n",
    "                for g in range(p-r,p):\n",
    "                    validation_cost = validation_cost + ((1/r)*(y_data[g]-np.dot(theta, x_data[g]))**2)/2\n",
    "            else:\n",
    "                for g in range((m/r-2)*r,(m/r-1)*r):\n",
    "                    validation_cost = validation_cost + ((1/r)*(y_data[g]-np.dot(theta, x_data[g]))**2)/2\n",
    "            print('COST: %s \\n' % validation_cost)\n",
    "            if(validation_cost<COST_THRESHOLD/2):\n",
    "                break\n",
    "        epoch+=1"
   ]
  }
 ],
 "metadata": {
  "kernelspec": {
   "display_name": "Python 3",
   "language": "python",
   "name": "python3"
  },
  "language_info": {
   "codemirror_mode": {
    "name": "ipython",
    "version": 3
   },
   "file_extension": ".py",
   "mimetype": "text/x-python",
   "name": "python",
   "nbconvert_exporter": "python",
   "pygments_lexer": "ipython3",
   "version": "3.7.0b4"
  }
 },
 "nbformat": 4,
 "nbformat_minor": 2
}
