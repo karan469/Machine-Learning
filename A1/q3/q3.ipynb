{
 "cells": [
  {
   "cell_type": "code",
   "execution_count": 1,
   "metadata": {},
   "outputs": [],
   "source": [
    "import numpy as np\n",
    "from matplotlib import pyplot as plt\n",
    "import math\n",
    "m = 100\n",
    "CONVERGENCE_THRESHOLD = 1.1e-10"
   ]
  },
  {
   "cell_type": "code",
   "execution_count": 2,
   "metadata": {},
   "outputs": [],
   "source": [
    "X = np.zeros(shape=(100,3))\n",
    "f1 = open('./q3/logisticX.csv','r')\n",
    "Y = np.zeros(shape = (100,1))\n",
    "f2 = open('./q3/logisticY.csv','r')\n",
    "\n",
    "cnt = 0\n",
    "for x in f1:\n",
    "    lt = x.split(',')\n",
    "    X[cnt][0] = 1\n",
    "    X[cnt][1] = lt[0]\n",
    "    X[cnt][2] = lt[1]\n",
    "    cnt += 1\n",
    "cnt=0\n",
    "for x in f2:\n",
    "    Y[cnt][0] = int(x)"
   ]
  },
  {
   "cell_type": "code",
   "execution_count": 3,
   "metadata": {},
   "outputs": [],
   "source": [
    "def sigma(x):\n",
    "    return 1/(1+math.exp(-1*x))"
   ]
  },
  {
   "cell_type": "code",
   "execution_count": 4,
   "metadata": {},
   "outputs": [],
   "source": [
    "def abline(slope, intercept):\n",
    "    \"\"\"Plot a line from slope and intercept\"\"\"\n",
    "    axes = plt.gca()\n",
    "    x_vals = np.array(axes.get_xlim())\n",
    "    x_vals[1] = 10\n",
    "    y_vals = intercept + slope * x_vals\n",
    "#     print(x_vals)\n",
    "#     print(y_vals)\n",
    "    plt.plot(X[:50,1], X[:50,2], \"or\", marker = '^', label = '0')\n",
    "    plt.plot(X[50:,1], X[50:,2], \"ob\", marker = 'o', label = '1')\n",
    "    plt.legend()\n",
    "    plt.plot(x_vals, y_vals)\n",
    "#     plt.savefig('./images/q3.png')"
   ]
  },
  {
   "cell_type": "code",
   "execution_count": 5,
   "metadata": {},
   "outputs": [
    {
     "name": "stdout",
     "output_type": "stream",
     "text": [
      "[1.57651669e-14]\n",
      "Iteration: 9\n",
      "Final Parameters:  [[ 0.76311601]\n",
      " [-0.73164417]\n",
      " [-0.51600465]]\n"
     ]
    }
   ],
   "source": [
    "theta = np.zeros(shape = (3,1))\n",
    "S = np.zeros(shape = (m,m))\n",
    "first_derivative = np.zeros(shape = (3,1))\n",
    "pi = np.dot(X, theta)\n",
    "\n",
    "prev_theta = np.ones(shape = (3,1))\n",
    "cnt = 0\n",
    "while(True):\n",
    "    pi = np.dot(X, theta)\n",
    "    for j in range(m):\n",
    "        pi[j][0] = sigma(pi[j][0])\n",
    "    \n",
    "    for j in range(m):\n",
    "        S[j][j] = pi[j][0] * (1-pi[j][0])\n",
    "    first_derv = np.dot(X.T, np.subtract(pi, Y))\n",
    "    H = np.dot(np.dot(X.T,S),X)\n",
    "    H_inv = np.linalg.inv(H)\n",
    "    delta = np.dot(H_inv, first_derv)\n",
    "    prev_theta = theta\n",
    "    theta = np.subtract(theta, delta)\n",
    "    \n",
    "    sum = 0\n",
    "    for c in range(3):\n",
    "        sum += abs(np.subtract(prev_theta,theta)[c])\n",
    "    if(sum<CONVERGENCE_THRESHOLD):\n",
    "        print(sum)\n",
    "        print('Iteration: %s' % str(cnt))\n",
    "        break\n",
    "    cnt += 1\n",
    "print(\"Final Parameters: \", theta)"
   ]
  },
  {
   "cell_type": "code",
   "execution_count": 6,
   "metadata": {},
   "outputs": [
    {
     "data": {
      "image/png": "[encoded data removed]",
      "text/plain": [
       "<Figure size 432x288 with 1 Axes>"
      ]
     },
     "metadata": {
      "needs_background": "light"
     },
     "output_type": "display_data"
    }
   ],
   "source": [
    "plt.title(\"Data Set Q3\") \n",
    "plt.xlabel(\"x1\") \n",
    "plt.ylabel(\"x2\")\n",
    "abline(-1*theta[0]/theta[1], -1*theta[2]/theta[1])"
   ]
  },
  {
   "cell_type": "code",
   "execution_count": null,
   "metadata": {},
   "outputs": [],
   "source": []
  }
 ],
 "metadata": {
  "kernelspec": {
   "display_name": "Python 3",
   "language": "python",
   "name": "python3"
  },
  "language_info": {
   "codemirror_mode": {
    "name": "ipython",
    "version": 3
   },
   "file_extension": ".py",
   "mimetype": "text/x-python",
   "name": "python",
   "nbconvert_exporter": "python",
   "pygments_lexer": "ipython3",
   "version": "3.7.0b4"
  }
 },
 "nbformat": 4,
 "nbformat_minor": 2
}
