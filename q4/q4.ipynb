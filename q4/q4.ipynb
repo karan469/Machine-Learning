{
 "cells": [
  {
   "cell_type": "code",
   "execution_count": 1,
   "metadata": {},
   "outputs": [],
   "source": [
    "import numpy as np\n",
    "from matplotlib import pyplot as plt\n",
    "import math\n",
    "m = 100\n",
    "global flag\n",
    "flag = 0"
   ]
  },
  {
   "cell_type": "code",
   "execution_count": 32,
   "metadata": {},
   "outputs": [
    {
     "name": "stdout",
     "output_type": "stream",
     "text": [
      "(100, 3)\n"
     ]
    }
   ],
   "source": [
    "X = np.zeros(shape = (m,3))\n",
    "Y = np.zeros(shape = (m,1))\n",
    "f1 = open('./q4/q4x.dat','r')\n",
    "f2 = open('./q4/q4y.dat','r')\n",
    "cnt = 0\n",
    "for x in f1:\n",
    "    lt = x.split(' ')\n",
    "    X[cnt][0] = 1\n",
    "    X[cnt][1] = lt[0]\n",
    "    X[cnt][2] = lt[2]\n",
    "    cnt += 1\n",
    "cnt=0\n",
    "for x in f2:\n",
    "    if(x.split('\\n')[0]=='Alaska'):\n",
    "        Y[cnt][0] = 0\n",
    "    else:\n",
    "        Y[cnt][0] = 1\n",
    "    cnt+=1\n",
    "# print(X)\n",
    "\n",
    "# Normalisation\n",
    "temp = X[:,1].copy()\n",
    "temp -= np.mean(X[:, 1])\n",
    "temp /= np.std(X[:, 1])\n",
    "X[:, 1] = temp\n",
    "temp = X[:, 2].copy()\n",
    "temp -= np.mean(X[:, 2])\n",
    "temp /= np.std(X[:, 2])\n",
    "X[:, 2] = temp\n",
    "print(X.shape)"
   ]
  },
  {
   "cell_type": "code",
   "execution_count": 33,
   "metadata": {},
   "outputs": [],
   "source": [
    "def oneCheck(var, ans):\n",
    "    if var == ans:\n",
    "        return 1\n",
    "    return 0"
   ]
  },
  {
   "cell_type": "code",
   "execution_count": 34,
   "metadata": {},
   "outputs": [
    {
     "name": "stdout",
     "output_type": "stream",
     "text": [
      "0.5000000000000002\n"
     ]
    }
   ],
   "source": [
    "phi = 0\n",
    "for i in range(m):\n",
    "    phi += oneCheck(Y[i][0], 1)/m\n",
    "print(phi)"
   ]
  },
  {
   "cell_type": "code",
   "execution_count": 113,
   "metadata": {},
   "outputs": [],
   "source": [
    "def get_y(x, c, a, b):\n",
    "    return (c - a*x*1.0)/b\n",
    "\n",
    "def get_quadratic(x, phi, mu0, mu1, sigma0, sigma1):\n",
    "    global flag\n",
    "    sigma0_inv = np.linalg.pinv(sigma0)\n",
    "    sigma1_inv = np.linalg.pinv(sigma1)\n",
    "    a = sigma1_inv[0][0]\n",
    "    b = sigma1_inv[0][1]\n",
    "    c = sigma1_inv[1][0]\n",
    "    d = sigma1_inv[1][1]\n",
    "    p = sigma0_inv[0][0]\n",
    "    q = sigma0_inv[0][1]\n",
    "    r = sigma0_inv[1][0]\n",
    "    s = sigma0_inv[1][1]\n",
    "    p1 = phi\n",
    "    p0 = 1.0 - phi\n",
    "    C = np.log(np.linalg.det(sigma0)) - np.log(np.linalg.det(sigma1)) + 2.0*np.log(p1) - 2.0*np.log(p0)\n",
    "    u = d - s\n",
    "    v = (-2.0 * d * mu1[1]) + (2.0 * s * mu0[1]) + (b * x) - (b * mu1[0]) + (c * x) - (c * mu1[0]) - (q * x) + (q * mu0[0]) - (r * x) + (r * mu0[0])\n",
    "    w = C - (a * ((x - mu1[0])**2)) + (p * ((x - mu0[0])**2)) + (mu0[1] * (q + r) * (mu0[0] - x)) + (mu1[1] * (b + c) * (x - mu1[0])) - (d*(mu1[1] ** 2)) + (s*(mu0[1]**2))\n",
    "    sqt = np.sqrt((v**2) + (4*u*w))\n",
    "    if(flag == 0):\n",
    "        A = a - p\n",
    "        B = b + c - q - r\n",
    "        C = d - s\n",
    "        D = -2*a*mu1[0] - mu1[1]*(b + c) + 2*p*mu0[0] + mu0[1]*(q + r)\n",
    "        E = (-2.0 * d * mu1[1]) + (2.0 * s * mu0[1]) - (b * mu1[0]) - (\n",
    "            c * mu1[0]) + (q * mu0[0]) + (r * mu0[0])\n",
    "        F = -C + (a * (mu1[0])**2) - (p * ((mu0[0])**2)) - (\n",
    "            mu0[1] * (q + r) *\n",
    "            (mu0[0])) + (mu1[1] * (b + c) *\n",
    "                            (mu1[0])) + (d * (mu1[1]**2)) - (s * (mu0[1]**2))\n",
    "        print('The value of discriminant is ' + str(B**2 - 4*A*C))\n",
    "        print('The equation of decision boundary is a conic of the form : ')\n",
    "        print(str(A) + 'x^2 + ' + str(B) + 'xy + ' + str(C) + 'y^2 + ' + str(D) + 'x + ' + str(E) + 'y + ' + str(F) + '\\n')\n",
    "        flag = 1\n",
    "    return ( (0.5*(-v + sqt))/u , (0.5*(-v - sqt))/u )"
   ]
  },
  {
   "cell_type": "code",
   "execution_count": 89,
   "metadata": {},
   "outputs": [
    {
     "data": {
      "image/png": "[encoded data removed]",
      "text/plain": [
       "<Figure size 432x288 with 1 Axes>"
      ]
     },
     "metadata": {
      "needs_background": "light"
     },
     "output_type": "display_data"
    }
   ],
   "source": [
    "# Part b\n",
    "plt.plot(X[:50,1], X[:50,2], \"or\", marker='o', label='Alaska')\n",
    "plt.plot(X[50:,1], X[50:,2], \"ob\", marker='^', label='Canada')\n",
    "plt.xlabel('x1 -->')\n",
    "plt.ylabel('x2 -->')\n",
    "plt.title('Training Set')\n",
    "plt.legend()\n",
    "plt.show(block=False)\n",
    "# plt.savefig('./images/q2_b_normalized.png')"
   ]
  },
  {
   "cell_type": "code",
   "execution_count": 91,
   "metadata": {},
   "outputs": [],
   "source": [
    "mu_0 = np.zeros(shape = (3,1))\n",
    "numerator = 0\n",
    "denominator = 0\n",
    "for i in range(m):\n",
    "    if(Y[i][0]==0):\n",
    "        numerator += X[i,:]\n",
    "        denominator += 1\n",
    "\n",
    "mu_0[0][0] = 1\n",
    "mu_0[1][0] = (numerator/denominator)[1]\n",
    "mu_0[2][0] = (numerator/denominator)[2]\n",
    "\n",
    "mu_1 = np.zeros(shape = (3,1))\n",
    "numerator = 0\n",
    "denominator = 0\n",
    "for i in range(m):\n",
    "    if(Y[i][0]==1):\n",
    "        numerator += X[i,:]\n",
    "        denominator += 1\n",
    "\n",
    "mu_1[0][0] = 1\n",
    "mu_1[1][0] = (numerator/denominator)[1]\n",
    "mu_1[2][0] = (numerator/denominator)[2]"
   ]
  },
  {
   "cell_type": "code",
   "execution_count": 101,
   "metadata": {},
   "outputs": [
    {
     "name": "stdout",
     "output_type": "stream",
     "text": [
      "Answers for part(a):\n",
      "1. mu_0\n",
      " [-0.75529433  0.68509431]\n",
      "2. mu_1\n",
      " [ 0.75529433 -0.68509431]\n",
      "3. sigma\n",
      " [[303.98237294  98.68020506 108.7917365 ]\n",
      " [ 98.68020506 493.37803718  41.51353184]\n",
      " [108.7917365   41.51353184 513.60110006]]\n"
     ]
    }
   ],
   "source": [
    "# Part a - Answers\n",
    "sigma = np.zeros(shape = (3,3))\n",
    "for i in range(m):\n",
    "    if(Y[i][0]==0):\n",
    "        some_i = X[i,:]-mu_0\n",
    "    else:\n",
    "        some_i = X[i,:]-mu_1\n",
    "    sigma += np.dot(some_i.T, some_i)\n",
    "\n",
    "print('Answers for part(a):')\n",
    "print('1. mu_0\\n',mu_0[1:].T[0])\n",
    "print('2. mu_1\\n',mu_1[1:].T[0])\n",
    "print('3. sigma\\n',sigma)"
   ]
  },
  {
   "cell_type": "code",
   "execution_count": 93,
   "metadata": {},
   "outputs": [
    {
     "data": {
      "image/png": "[encoded data removed]",
      "text/plain": [
       "<Figure size 432x288 with 1 Axes>"
      ]
     },
     "metadata": {
      "needs_background": "light"
     },
     "output_type": "display_data"
    }
   ],
   "source": [
    "sigma_inv = np.linalg.pinv(sigma)\n",
    "vec_1 = sigma_inv.dot(mu_0 - mu_1)\n",
    "c = 0.5 * (((mu_0.T).dot(sigma_inv)).dot(mu_0) -\n",
    "           ((mu_1.T).dot(sigma_inv)).dot(mu_1))\n",
    "\n",
    "x_lines = [np.min(X[:, 1]), np.max(X[:, 1])]\n",
    "\n",
    "# Part c - plotting the linear decision boundary\n",
    "plt.plot(\n",
    "    x_lines, [\n",
    "        get_y(x_lines[0], c, vec_1[1][0], vec_1[2][0])[0],\n",
    "        get_y(x_lines[1], c, vec_1[1][0], vec_1[2][0])[0]\n",
    "    ],\n",
    "    label='Linear Decision Boundary')\n",
    "plt.plot(X[:50,1], X[:50,2], \"or\", marker='o', label='Alaska')\n",
    "plt.plot(X[50:,1], X[50:,2], \"ob\", marker='^', label='Canada')\n",
    "plt.xlabel('x1 -->')\n",
    "plt.ylabel('x2 -->')\n",
    "plt.title('Training Set')\n",
    "plt.legend()\n",
    "plt.show(block=False)\n",
    "# plt.savefig('./images/q4_c_normalized.png')\n",
    "plt.close()"
   ]
  },
  {
   "cell_type": "code",
   "execution_count": 125,
   "metadata": {},
   "outputs": [
    {
     "name": "stdout",
     "output_type": "stream",
     "text": [
      "sigma_0:\n",
      " [[ 2.83789898 -0.30973032]\n",
      " [-0.30973032  3.37019376]]\n",
      "sigma_1:\n",
      " [[3.02966176 0.2198412 ]\n",
      " [0.2198412  2.90182824]]\n"
     ]
    }
   ],
   "source": [
    "# Part d - sigma_0 sigma_1 calculation\n",
    "sigma_0 = np.zeros(shape = (2,2))\n",
    "for i in range(m):\n",
    "    if(Y[i][0]==0):\n",
    "        some_i = X[i,1:]-mu_0[1:]\n",
    "        sigma_0 += np.dot(some_i.T, some_i)/(m*(1-phi))\n",
    "print('sigma_0:\\n',sigma_0)\n",
    "\n",
    "sigma_1 = np.zeros(shape = (2,2))\n",
    "for i in range(m):\n",
    "    if(Y[i][0]==1):\n",
    "        some_i = X[i,1:]-mu_1[1:]\n",
    "        sigma_1 += np.dot(some_i.T, some_i)/(m*phi)\n",
    "print('sigma_1:\\n',sigma_1)"
   ]
  },
  {
   "cell_type": "code",
   "execution_count": 121,
   "metadata": {},
   "outputs": [
    {
     "name": "stdout",
     "output_type": "stream",
     "text": [
      "[array([-0.50297998]), array([-0.48651056]), array([-0.47047654]), array([-0.45486939]), array([-0.43968075]), array([-0.42490239]), array([-0.41052621]), array([-0.39654428]), array([-0.38294878]), array([-0.36973206]), array([-0.3568866]), array([-0.34440502]), array([-0.33228007]), array([-0.32050467]), array([-0.30907184]), array([-0.29797476]), array([-0.28720675]), array([-0.27676123]), array([-0.26663179]), array([-0.25681214]), array([-0.24729609]), array([-0.23807763]), array([-0.22915083]), array([-0.22050989]), array([-0.21214916]), array([-0.20406309]), array([-0.19624622]), array([-0.18869326]), array([-0.181399]), array([-0.17435834]), array([-0.1675663]), array([-0.16101801]), array([-0.15470869]), array([-0.14863368]), array([-0.14278841]), array([-0.13716841]), array([-0.13176932]), array([-0.12658686]), array([-0.12161684]), array([-0.11685519]), array([-0.1122979]), array([-0.10794105]), array([-0.10378083]), array([-0.09981348]), array([-0.09603535]), array([-0.09244286]), array([-0.0890325]), array([-0.08580085]), array([-0.08274455]), array([-0.07986034]), array([-0.077145]), array([-0.07459541]), array([-0.07220848]), array([-0.06998123]), array([-0.06791071]), array([-0.06599407]), array([-0.06422848]), array([-0.0626112]), array([-0.06113954]), array([-0.05981087]), array([-0.05862263]), array([-0.05757228]), array([-0.05665738]), array([-0.0558755]), array([-0.05522429]), array([-0.05470143]), array([-0.05430468]), array([-0.05403182]), array([-0.05388068]), array([-0.05384915]), array([-0.05393515]), array([-0.05413666]), array([-0.05445168]), array([-0.05487827]), array([-0.05541453]), array([-0.05605859]), array([-0.05680862]), array([-0.05766284]), array([-0.0586195]), array([-0.05967688]), array([-0.0608333]), array([-0.06208712]), array([-0.06343673]), array([-0.06488054]), array([-0.06641701]), array([-0.06804463]), array([-0.06976192]), array([-0.07156741]), array([-0.07345968]), array([-0.07543734]), array([-0.07749902]), array([-0.07964338]), array([-0.0818691]), array([-0.08417489]), array([-0.0865595]), array([-0.08902168]), array([-0.09156023]), array([-0.09417394]), array([-0.09686166])]\n"
     ]
    }
   ],
   "source": [
    "#part d - generating 1000 (x,y) for quadratic line\n",
    "num_points = 1000\n",
    "x_all = np.linspace(np.min(X[:, 1]), np.max(X[:, 1]), num_points)\n",
    "x_plot1 = []\n",
    "x_plot2 = []\n",
    "y_plot1 = []\n",
    "y_plot2 = []\n",
    "count = 0\n",
    "for i in range(num_points):\n",
    "    x = x_all[i]\n",
    "    (y_val1, y_val2) = get_quadratic(x, phi, mu_0, mu_1, sigma_0, sigma_1)\n",
    "    x_plot1.append(x)\n",
    "    y_plot1.append(y_val1)\n",
    "    if(count == 10):\n",
    "        x_plot2.append(x)\n",
    "        y_plot2.append(y_val2)\n",
    "        count = 0\n",
    "    count += 1"
   ]
  },
  {
   "cell_type": "code",
   "execution_count": 126,
   "metadata": {},
   "outputs": [
    {
     "name": "stdout",
     "output_type": "stream",
     "text": [
      "\n",
      "\n",
      "Plotting the data...\n",
      "\n"
     ]
    }
   ],
   "source": [
    "#plotting with the quadratic separator\n",
    "print('\\n\\nPlotting the data...\\n')\n",
    "plt.figure()\n",
    "# x1 = np.array([X[x, :] for x in label_0])\n",
    "# x2 = np.array([X[x, :] for x in label_1])\n",
    "plt.plot(X[:50,1], X[:50,2], 'ro', marker='o', label='Alaska')\n",
    "plt.plot(X[50:,1], X[50:,2], 'bo', marker='^', label='Canada')\n",
    "plt.xlabel('x1 -->')\n",
    "plt.ylabel('x2 -->')\n",
    "plt.title('Training Set')\n",
    "\n",
    "#plotting the boundary\n",
    "# plt.plot(x_plot1,y_plot1,'ko',markersize = 1, label='Quadratic Decision Boundary')\n",
    "plt.plot(\n",
    "    x_plot2,\n",
    "    y_plot2,\n",
    "    'ko',\n",
    "    markersize=0.5)\n",
    "\n",
    "# plt.plot(\n",
    "# x_lines, [\n",
    "#     get_y(x_lines[0], c, vec_1[1], vec_1[2])[0],\n",
    "#     get_y(x_lines[1], c, vec_1[1], vec_1[2])[0]\n",
    "# ],\n",
    "# label='Linear Decision Boundary')\n",
    "plt.legend()\n",
    "# plt.savefig('./images/q2_e.png')\n",
    "plt.show(block=False)\n",
    "plt.close()"
   ]
  },
  {
   "cell_type": "code",
   "execution_count": null,
   "metadata": {},
   "outputs": [],
   "source": []
  }
 ],
 "metadata": {
  "kernelspec": {
   "display_name": "Python 3",
   "language": "python",
   "name": "python3"
  },
  "language_info": {
   "codemirror_mode": {
    "name": "ipython",
    "version": 3
   },
   "file_extension": ".py",
   "mimetype": "text/x-python",
   "name": "python",
   "nbconvert_exporter": "python",
   "pygments_lexer": "ipython3",
   "version": "3.7.0b4"
  }
 },
 "nbformat": 4,
 "nbformat_minor": 2
}
