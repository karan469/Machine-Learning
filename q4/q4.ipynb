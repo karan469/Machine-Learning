{
 "cells": [
  {
   "cell_type": "code",
   "execution_count": 1,
   "metadata": {},
   "outputs": [],
   "source": [
    "import numpy as np\n",
    "from matplotlib import pyplot as plt\n",
    "import math\n",
    "m = 100\n",
    "global flag\n",
    "flag = 0"
   ]
  },
  {
   "cell_type": "code",
   "execution_count": 135,
   "metadata": {},
   "outputs": [],
   "source": [
    "X = np.zeros(shape = (m,2))\n",
    "Y = np.zeros(shape = (m,1))\n",
    "f1 = open('./q4/q4x.dat','r')\n",
    "f2 = open('./q4/q4y.dat','r')\n",
    "cnt = 0\n",
    "for x in f1:\n",
    "    lt = x.split(' ')\n",
    "#     X[cnt][0] = 1\n",
    "    X[cnt][0] = lt[0]\n",
    "    X[cnt][1] = lt[2]\n",
    "    cnt += 1\n",
    "cnt=0\n",
    "for x in f2:\n",
    "    if(x.split('\\n')[0]=='Alaska'):\n",
    "        Y[cnt][0] = 0\n",
    "    else:\n",
    "        Y[cnt][0] = 1\n",
    "    cnt+=1\n",
    "\n",
    "# Normalisation\n",
    "temp = X[:,0].copy()\n",
    "temp -= np.mean(X[:, 0])\n",
    "temp /= np.std(X[:, 0])\n",
    "X[:, 0] = temp\n",
    "temp = X[:, 1].copy()\n",
    "temp -= np.mean(X[:, 1])\n",
    "temp /= np.std(X[:, 1])\n",
    "X[:, 1] = temp"
   ]
  },
  {
   "cell_type": "code",
   "execution_count": 136,
   "metadata": {},
   "outputs": [],
   "source": [
    "def oneCheck(var, ans):\n",
    "    if var == ans:\n",
    "        return 1\n",
    "    return 0"
   ]
  },
  {
   "cell_type": "code",
   "execution_count": 137,
   "metadata": {},
   "outputs": [],
   "source": [
    "phi = 0\n",
    "for i in range(m):\n",
    "    phi += oneCheck(Y[i][0], 1)/m"
   ]
  },
  {
   "cell_type": "code",
   "execution_count": 138,
   "metadata": {},
   "outputs": [],
   "source": [
    "def get_y(x, c, a, b):\n",
    "    return (c - a*x*1.0)/b\n",
    "\n",
    "def get_quadratic(x, phi, mu0, mu1, sigma0, sigma1):\n",
    "    global flag\n",
    "    sigma0_inv = np.linalg.pinv(sigma0)\n",
    "    sigma1_inv = np.linalg.pinv(sigma1)\n",
    "    a = sigma1_inv[0][0]\n",
    "    b = sigma1_inv[0][1]\n",
    "    c = sigma1_inv[1][0]\n",
    "    d = sigma1_inv[1][1]\n",
    "    p = sigma0_inv[0][0]\n",
    "    q = sigma0_inv[0][1]\n",
    "    r = sigma0_inv[1][0]\n",
    "    s = sigma0_inv[1][1]\n",
    "    p1 = phi\n",
    "    p0 = 1.0 - phi\n",
    "    C = np.log(np.linalg.det(sigma0)) - np.log(np.linalg.det(sigma1)) + 2.0*np.log(p1) - 2.0*np.log(p0)\n",
    "    u = d - s\n",
    "    v = (-2.0 * d * mu1[1]) + (2.0 * s * mu0[1]) + (b * x) - (b * mu1[0]) + (c * x) - (c * mu1[0]) - (q * x) + (q * mu0[0]) - (r * x) + (r * mu0[0])\n",
    "    w = C - (a * ((x - mu1[0])**2)) + (p * ((x - mu0[0])**2)) + (mu0[1] * (q + r) * (mu0[0] - x)) + (mu1[1] * (b + c) * (x - mu1[0])) - (d*(mu1[1] ** 2)) + (s*(mu0[1]**2))\n",
    "    sqt = np.sqrt((v**2) + (4*u*w))\n",
    "    if(flag == 0):\n",
    "        A = a - p\n",
    "        B = b + c - q - r\n",
    "        C = d - s\n",
    "        D = -2*a*mu1[0] - mu1[1]*(b + c) + 2*p*mu0[0] + mu0[1]*(q + r)\n",
    "        E = (-2.0 * d * mu1[1]) + (2.0 * s * mu0[1]) - (b * mu1[0]) - (\n",
    "            c * mu1[0]) + (q * mu0[0]) + (r * mu0[0])\n",
    "        F = -C + (a * (mu1[0])**2) - (p * ((mu0[0])**2)) - (\n",
    "            mu0[1] * (q + r) *\n",
    "            (mu0[0])) + (mu1[1] * (b + c) *\n",
    "                            (mu1[0])) + (d * (mu1[1]**2)) - (s * (mu0[1]**2))\n",
    "        print('The value of discriminant is ' + str(B**2 - 4*A*C))\n",
    "        print('The equation of decision boundary is a conic of the form : ')\n",
    "        print(str(A) + 'x^2 + ' + str(B) + 'xy + ' + str(C) + 'y^2 + ' + str(D) + 'x + ' + str(E) + 'y + ' + str(F) + '\\n')\n",
    "        flag = 1\n",
    "    return ( (0.5*(-v + sqt))/u , (0.5*(-v - sqt))/u )"
   ]
  },
  {
   "cell_type": "code",
   "execution_count": 139,
   "metadata": {},
   "outputs": [
    {
     "data": {
      "image/png": "[encoded data removed]",
      "text/plain": [
       "<Figure size 432x288 with 1 Axes>"
      ]
     },
     "metadata": {
      "needs_background": "light"
     },
     "output_type": "display_data"
    }
   ],
   "source": [
    "# Part b\n",
    "plt.plot(X[:50,0], X[:50,1], \"or\", marker='o', label='Alaska')\n",
    "plt.plot(X[50:,0], X[50:,1], \"ob\", marker='^', label='Canada')\n",
    "plt.xlabel('x1 -->')\n",
    "plt.ylabel('x2 -->')\n",
    "plt.title('Training Set')\n",
    "plt.legend()\n",
    "plt.show(block=False)\n",
    "# plt.savefig('./images/q2_b_normalized.png')"
   ]
  },
  {
   "cell_type": "code",
   "execution_count": 140,
   "metadata": {},
   "outputs": [
    {
     "name": "stdout",
     "output_type": "stream",
     "text": [
      "[[-0.75529433]\n",
      " [ 0.68509431]]\n"
     ]
    }
   ],
   "source": [
    "mu_0 = np.zeros(shape = (2,1))\n",
    "numerator = 0\n",
    "denominator = 0\n",
    "for i in range(m):\n",
    "    if(Y[i][0]==0):\n",
    "        numerator += X[i,:]\n",
    "        denominator += 1\n",
    "\n",
    "# mu_0[0][0] = 1\n",
    "mu_0[0][0] = (numerator/denominator)[0]\n",
    "mu_0[1][0] = (numerator/denominator)[1]\n",
    "\n",
    "mu_1 = np.zeros(shape = (2,1))\n",
    "numerator = 0\n",
    "denominator = 0\n",
    "for i in range(m):\n",
    "    if(Y[i][0]==1):\n",
    "        numerator += X[i,:]\n",
    "        denominator += 1\n",
    "\n",
    "# mu_1[0][0] = 1\n",
    "mu_1[0][0] = (numerator/denominator)[0]\n",
    "mu_1[1][0] = (numerator/denominator)[1]\n",
    "\n",
    "print(mu_0)\n"
   ]
  },
  {
   "cell_type": "code",
   "execution_count": 143,
   "metadata": {},
   "outputs": [
    {
     "name": "stdout",
     "output_type": "stream",
     "text": [
      "Answers for part(a):\n",
      "1. mu_0\n",
      " [-0.75529433  0.68509431]\n",
      "2. mu_1\n",
      " [ 0.75529433 -0.68509431]\n",
      "3. sigma\n",
      " [[ 2.93378037 -0.04494456]\n",
      " [-0.04494456  3.136011  ]]\n"
     ]
    }
   ],
   "source": [
    "# Part a - Answers\n",
    "sigma = np.zeros(shape = (2,2))\n",
    "for i in range(m):\n",
    "    if(Y[i][0]==0):\n",
    "        some_i = X[i,:]-mu_0\n",
    "    else:\n",
    "        some_i = X[i,:]-mu_1\n",
    "    sigma += np.dot(some_i.T, some_i)/m\n",
    "\n",
    "print('Answers for part(a):')\n",
    "print('1. mu_0\\n',mu_0.T[0])\n",
    "print('2. mu_1\\n',mu_1.T[0])\n",
    "print('3. Common sigma\\n',sigma)"
   ]
  },
  {
   "cell_type": "code",
   "execution_count": 144,
   "metadata": {},
   "outputs": [
    {
     "data": {
      "image/png": "[encoded data removed]",
      "text/plain": [
       "<Figure size 432x288 with 1 Axes>"
      ]
     },
     "metadata": {
      "needs_background": "light"
     },
     "output_type": "display_data"
    }
   ],
   "source": [
    "sigma_inv = np.linalg.pinv(sigma)\n",
    "vec_1 = sigma_inv.dot(mu_0 - mu_1)\n",
    "c = 0.5 * (((mu_0.T).dot(sigma_inv)).dot(mu_0) -\n",
    "           ((mu_1.T).dot(sigma_inv)).dot(mu_1))\n",
    "\n",
    "x_lines = [np.min(X[:, 1]), np.max(X[:, 1])]\n",
    "\n",
    "# Part c - plotting the linear decision boundary\n",
    "plt.plot(\n",
    "    x_lines, [\n",
    "        get_y(x_lines[0], c, vec_1[0][0], vec_1[1][0])[0],\n",
    "        get_y(x_lines[1], c, vec_1[0][0], vec_1[1][0])[0]\n",
    "    ],\n",
    "    label='Linear Decision Boundary')\n",
    "plt.plot(X[:50,0], X[:50,1], \"or\", marker='o', label='Alaska')\n",
    "plt.plot(X[50:,0], X[50:,1], \"ob\", marker='^', label='Canada')\n",
    "plt.xlabel('x1 -->')\n",
    "plt.ylabel('x2 -->')\n",
    "plt.title('Training Set')\n",
    "plt.legend()\n",
    "plt.show(block=False)\n",
    "# plt.savefig('./images/q4_c_normalized.png')\n",
    "plt.close()"
   ]
  },
  {
   "cell_type": "code",
   "execution_count": 145,
   "metadata": {},
   "outputs": [
    {
     "name": "stdout",
     "output_type": "stream",
     "text": [
      "sigma_0:\n",
      " [[ 2.83789898 -0.30973032]\n",
      " [-0.30973032  3.37019376]]\n",
      "sigma_1:\n",
      " [[3.02966176 0.2198412 ]\n",
      " [0.2198412  2.90182824]]\n"
     ]
    }
   ],
   "source": [
    "# Part d - sigma_0 sigma_1 calculation\n",
    "sigma_0 = np.zeros(shape = (2,2))\n",
    "for i in range(m):\n",
    "    if(Y[i][0]==0):\n",
    "        some_i = X[i,:]-mu_0\n",
    "        sigma_0 += np.dot(some_i.T, some_i)/(m*(1-phi))\n",
    "print('sigma_0:\\n',sigma_0)\n",
    "\n",
    "sigma_1 = np.zeros(shape = (2,2))\n",
    "for i in range(m):\n",
    "    if(Y[i][0]==1):\n",
    "        some_i = X[i,:]-mu_1\n",
    "        sigma_1 += np.dot(some_i.T, some_i)/(m*phi)\n",
    "print('sigma_1:\\n',sigma_1)"
   ]
  },
  {
   "cell_type": "code",
   "execution_count": 155,
   "metadata": {},
   "outputs": [],
   "source": [
    "#part d - generating 1000 (x,y) for quadratic line\n",
    "num_points = 1000\n",
    "x_all = np.linspace(np.min(X[:, 0]), np.max(X[:, 0]), num_points)\n",
    "x_plot1 = []\n",
    "x_plot2 = []\n",
    "y_plot1 = []\n",
    "y_plot2 = []\n",
    "count = 0\n",
    "for i in range(num_points):\n",
    "    x = x_all[i]\n",
    "    (y_val1, y_val2) = get_quadratic(x, phi, mu_0, mu_1, sigma_0, sigma_1)\n",
    "    x_plot1.append(x)\n",
    "    y_plot1.append(y_val1)\n",
    "    if(count == 10):\n",
    "        x_plot2.append(x)\n",
    "        y_plot2.append(y_val2)\n",
    "        count = 0\n",
    "    count += 1"
   ]
  },
  {
   "cell_type": "code",
   "execution_count": 156,
   "metadata": {},
   "outputs": [
    {
     "name": "stdout",
     "output_type": "stream",
     "text": [
      "\n",
      "\n",
      "Plotting the data...\n",
      "\n"
     ]
    },
    {
     "data": {
      "image/png": "[encoded data removed]",
      "text/plain": [
       "<Figure size 432x288 with 1 Axes>"
      ]
     },
     "metadata": {
      "needs_background": "light"
     },
     "output_type": "display_data"
    }
   ],
   "source": [
    "#plotting with the quadratic separator\n",
    "print('\\n\\nPlotting the data...\\n')\n",
    "plt.figure()\n",
    "# x1 = np.array([X[x, :] for x in label_0])\n",
    "# x2 = np.array([X[x, :] for x in label_1])\n",
    "plt.plot(X[:50,0], X[:50,1], 'ro', marker='o', label='Alaska')\n",
    "plt.plot(X[50:,0], X[50:,1], 'bo', marker='^', label='Canada')\n",
    "plt.xlabel('x1 -->')\n",
    "plt.ylabel('x2 -->')\n",
    "plt.title('Training Set')\n",
    "\n",
    "#plotting the boundary\n",
    "plt.plot(x_plot1,y_plot1,'ko',markersize = 1, label='Quadratic Decision Boundary')\n",
    "plt.plot(x_plot2, y_plot2, 'ko', markersize=0.5)\n",
    "plt.plot(x_lines, [get_y(x_lines[0], c, vec_1[0], vec_1[1])[0], get_y(x_lines[1], c, vec_1[0], vec_1[1])[0]], label='Linear Decision Boundary')\n",
    "plt.legend()\n",
    "plt.savefig('./images/q2_e.png')\n",
    "plt.show(block=False)\n",
    "plt.close()"
   ]
  },
  {
   "cell_type": "code",
   "execution_count": null,
   "metadata": {},
   "outputs": [],
   "source": []
  }
 ],
 "metadata": {
  "kernelspec": {
   "display_name": "Python 3",
   "language": "python",
   "name": "python3"
  },
  "language_info": {
   "codemirror_mode": {
    "name": "ipython",
    "version": 3
   },
   "file_extension": ".py",
   "mimetype": "text/x-python",
   "name": "python",
   "nbconvert_exporter": "python",
   "pygments_lexer": "ipython3",
   "version": "3.7.0b4"
  }
 },
 "nbformat": 4,
 "nbformat_minor": 2
}
