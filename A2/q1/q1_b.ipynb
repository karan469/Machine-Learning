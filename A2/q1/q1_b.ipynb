{
 "cells": [
  {
   "cell_type": "code",
   "execution_count": 3,
   "metadata": {},
   "outputs": [],
   "source": [
    "import pandas as pd\n",
    "import math\n",
    "import random"
   ]
  },
  {
   "cell_type": "code",
   "execution_count": 16,
   "metadata": {},
   "outputs": [
    {
     "name": "stdout",
     "output_type": "stream",
     "text": [
      "20\n"
     ]
    }
   ],
   "source": [
    "count = 0\n",
    "for i in range(40):\n",
    "    if(random.random()<0.5):\n",
    "        count += 1\n",
    "print(count)"
   ]
  },
  {
   "cell_type": "code",
   "execution_count": 17,
   "metadata": {},
   "outputs": [],
   "source": [
    "def test_random(train_file):\n",
    "    test_result = []\n",
    "    df_test = pd.read_csv(test_file)\n",
    "    for i in range(df_test['Y'].size):\n",
    "        num = random.random()\n",
    "        if(num>0.5):\n",
    "            result = 4\n",
    "        else:\n",
    "            result = 0\n",
    "#         result = log_likely(thetas_given_negative, thetas_given_positive, phis, df_test['text'][i])\n",
    "        test_result.append(result)\n",
    "    df_test['Y_test'] = test_result\n",
    "    \n",
    "    accuracy = 0\n",
    "    total = 0\n",
    "    for i in range(df_test['Y'].size):\n",
    "        if(df_test['Y'][i]!=2):\n",
    "            if(df_test['Y'][i]==df_test['Y_test'][i]):\n",
    "                accuracy += 1\n",
    "            total += 1\n",
    "    return (accuracy/total)"
   ]
  },
  {
   "cell_type": "code",
   "execution_count": 20,
   "metadata": {},
   "outputs": [],
   "source": [
    "def main(train_file, test_file, wordbag_dest, positive_wordbag_dest, negative_wordbag_dest):\n",
    "    df0 = pd.read_csv(train_file)\n",
    "    train_accuracy = test_random(train_file)\n",
    "    test_accuracy = test_random(test_file)\n",
    "    print('Training Accuracy is ' + str(train_accuracy*100) + '%')\n",
    "    print('Testing Accuracy is ' + str(test_accuracy*100) + '%')"
   ]
  },
  {
   "cell_type": "code",
   "execution_count": 21,
   "metadata": {},
   "outputs": [
    {
     "name": "stdout",
     "output_type": "stream",
     "text": [
      "Training Accuracy is 46.796657381615596%\n",
      "Testing Accuracy is 50.13927576601671%\n"
     ]
    }
   ],
   "source": [
    "if __name__ == '__main__':\n",
    "    training_size = 1600000\n",
    "    data_folder = 'trainingandtestdata'\n",
    "    train_file = './'+data_folder+'/'+'training.csv'\n",
    "    test_file = './' + data_folder+'/'+'testing.csv'\n",
    "    wordbag_dest = './' + data_folder + '/wordbag.csv'\n",
    "    positive_wordbag_dest = './' + data_folder + '/positive_wordbag.csv'\n",
    "    negative_wordbag_dest = './' + data_folder + '/negative_wordbag.csv'\n",
    "    main(train_file, test_file, wordbag_dest, positive_wordbag_dest, negative_wordbag_dest)"
   ]
  },
  {
   "cell_type": "code",
   "execution_count": null,
   "metadata": {},
   "outputs": [],
   "source": []
  }
 ],
 "metadata": {
  "kernelspec": {
   "display_name": "Python 3",
   "language": "python",
   "name": "python3"
  },
  "language_info": {
   "codemirror_mode": {
    "name": "ipython",
    "version": 3
   },
   "file_extension": ".py",
   "mimetype": "text/x-python",
   "name": "python",
   "nbconvert_exporter": "python",
   "pygments_lexer": "ipython3",
   "version": "3.7.0b4"
  }
 },
 "nbformat": 4,
 "nbformat_minor": 2
}
