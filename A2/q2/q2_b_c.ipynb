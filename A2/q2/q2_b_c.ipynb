{
 "cells": [
  {
   "cell_type": "code",
   "execution_count": 1,
   "metadata": {},
   "outputs": [],
   "source": [
    "from sklearn import svm\n",
    "import numpy as np\n",
    "import pandas as pd\n",
    "from matplotlib import pyplot as plt\n",
    "import pickle\n",
    "from sklearn.metrics import classification_report, confusion_matrix"
   ]
  },
  {
   "cell_type": "code",
   "execution_count": 2,
   "metadata": {},
   "outputs": [
    {
     "data": {
      "text/plain": [
       "[1, 2, 3]"
      ]
     },
     "execution_count": 2,
     "metadata": {},
     "output_type": "execute_result"
    }
   ],
   "source": [
    "a = [1,2,3,4,5,6]\n",
    "a[:3]"
   ]
  },
  {
   "cell_type": "code",
   "execution_count": 3,
   "metadata": {},
   "outputs": [],
   "source": [
    "def loadCSV(filename, size):\n",
    "    n = np.zeros(shape = (size, image_size*image_size))\n",
    "    nn = np.zeros(shape = (size, 1))\n",
    "    \n",
    "    f = open(dest_folder+filename, 'r')\n",
    "    i = 0\n",
    "    for x in f:\n",
    "        lst = x.split(',')\n",
    "        nn[i] = np.asarray([lst[label]], dtype = np.float32)\n",
    "        n[i] = np.asarray(lst, dtype=np.float32)[:image_size*image_size]\n",
    "        i += 1\n",
    "    for i in range(size):\n",
    "        for j in range(image_size*image_size):\n",
    "            n[i][j] /= 255\n",
    "    return n, nn"
   ]
  },
  {
   "cell_type": "code",
   "execution_count": 4,
   "metadata": {},
   "outputs": [],
   "source": [
    "dest_folder = './fashion_mnist/'\n",
    "train_filename = 'train.csv'\n",
    "test_filename = 'test.csv'\n",
    "val_filename = 'val.csv'\n",
    "\n",
    "train_size = 22500\n",
    "test_size = 5000\n",
    "val_size = 2501\n",
    "image_size = 28\n",
    "label = 784\n",
    "num_classes = 10"
   ]
  },
  {
   "cell_type": "code",
   "execution_count": 5,
   "metadata": {},
   "outputs": [],
   "source": [
    "X1, Y1 = loadCSV(train_filename, train_size)\n",
    "X2, Y2 = loadCSV(test_filename, test_size)\n",
    "X3, Y3 = loadCSV(val_filename, val_size)"
   ]
  },
  {
   "cell_type": "code",
   "execution_count": 7,
   "metadata": {},
   "outputs": [
    {
     "data": {
      "text/plain": [
       "SVC(C=1.0, cache_size=200, class_weight=None, coef0=0.0,\n",
       "    decision_function_shape='ovr', degree=3, gamma=0.05, kernel='rbf',\n",
       "    max_iter=-1, probability=False, random_state=None, shrinking=True,\n",
       "    tol=0.001, verbose=False)"
      ]
     },
     "execution_count": 7,
     "metadata": {},
     "output_type": "execute_result"
    }
   ],
   "source": [
    "clf = svm.SVC(kernel = 'rbf', gamma = 0.05)\n",
    "clf.fit(X1, Y1.reshape(1,train_size)[0])"
   ]
  },
  {
   "cell_type": "code",
   "execution_count": 8,
   "metadata": {},
   "outputs": [],
   "source": [
    "with open('q2_2_b.pkl', 'wb') as fid:\n",
    "    pickle.dump(clf, fid)"
   ]
  },
  {
   "cell_type": "code",
   "execution_count": 9,
   "metadata": {},
   "outputs": [],
   "source": [
    "Y2_pred = clf.predict(X2)\n",
    "Y3_pred = clf.predict(X3)"
   ]
  },
  {
   "cell_type": "code",
   "execution_count": 32,
   "metadata": {},
   "outputs": [],
   "source": [
    "print('===========TEST REPORT============')\n",
    "print(confusion_matrix(Y2,Y2_pred))\n",
    "print(classification_report(Y2,Y2_pred))\n",
    "\n",
    "print('===========VALIDATION REPORT============')\n",
    "print(confusion_matrix(Y3,Y3_pred))\n",
    "print(classification_report(Y3,Y3_pred))"
   ]
  },
  {
   "cell_type": "code",
   "execution_count": 31,
   "metadata": {},
   "outputs": [
    {
     "name": "stdout",
     "output_type": "stream",
     "text": [
      "ACCURACY FOR VALIDATION DATA:  [0.84462151 0.948      0.824      0.912      0.8        0.964\n",
      " 0.66       0.92       0.976      0.94      ]\n",
      "ACCURACY FOR TEST DATA:  [0.866 0.964 0.822 0.914 0.798 0.946 0.63  0.942 0.978 0.948]\n"
     ]
    }
   ],
   "source": [
    "count_test = np.zeros(num_classes)\n",
    "for i in range(val_size):\n",
    "#     print(Y3[i][0])\n",
    "    count_test[int(Y3[i][0])] += 1\n",
    "# count_test\n",
    "\n",
    "q2_2_c = np.zeros(num_classes)\n",
    "for i in range(num_classes):\n",
    "    q2_2_c[i] = (confusion_matrix(Y3, Y3_pred)[i][i])/count_test[i]\n",
    "\n",
    "print('ACCURACY FOR VALIDATION DATA: ',q2_2_c) # [0.84462151 0.948 0.824 0.912 0.8 0.964 0.66 0.92 0.976 0.94] THUS, CLASS 6 WAS MISCLASSIFIED MOST\n",
    "\n",
    "count_test = np.zeros(num_classes)\n",
    "for i in range(test_size):\n",
    "#     print(Y2[i][0])\n",
    "    count_test[int(Y2[i][0])] += 1\n",
    "# count_test\n",
    "\n",
    "q2_2_c = np.zeros(num_classes)\n",
    "for i in range(num_classes):\n",
    "    q2_2_c[i] = (confusion_matrix(Y2, Y2_pred)[i][i])/count_test[i]\n",
    "\n",
    "print('ACCURACY FOR TEST DATA: ',q2_2_c) # [0.866 0.964 0.822 0.914 0.798 0.946 0.63  0.942 0.978 0.948] THUS, CLASS 6 WAS MISCLASSIFIED MOST"
   ]
  },
  {
   "cell_type": "markdown",
   "metadata": {},
   "source": [
    "==============================REPORT=================================\n",
    "\n",
    "SVC(C=1.0, cache_size=200, class_weight=None, coef0=0.0,\n",
    "    decision_function_shape='ovr', degree=3, gamma=0.05, kernel='rbf',\n",
    "    max_iter=-1, probability=False, random_state=None, shrinking=True,\n",
    "    tol=0.001, verbose=False)\n",
    "\n",
    "\n",
    "===========TEST REPORT============\n",
    "[[433   0   5  11   3   0  38   0  10   0]\n",
    " [  1 482   4   9   0   0   4   0   0   0]\n",
    " [  5   0 411   7  37   0  32   0   8   0]\n",
    " [ 12   0   3 457   9   0  14   0   5   0]\n",
    " [  3   1  41  13 399   0  38   0   5   0]\n",
    " [  0   0   0   0   0 473   0  16   5   6]\n",
    " [ 80   0  55   9  34   0 315   0   7   0]\n",
    " [  0   0   0   0   0  14   0 471   1  14]\n",
    " [  1   0   1   1   2   2   2   2 489   0]\n",
    " [  0   0   0   0   0  11   0  14   1 474]]\n",
    "              precision    recall  f1-score   support\n",
    "\n",
    "         0.0       0.81      0.87      0.84       500\n",
    "         1.0       1.00      0.96      0.98       500\n",
    "         2.0       0.79      0.82      0.81       500\n",
    "         3.0       0.90      0.91      0.91       500\n",
    "         4.0       0.82      0.80      0.81       500\n",
    "         5.0       0.95      0.95      0.95       500\n",
    "         6.0       0.71      0.63      0.67       500\n",
    "         7.0       0.94      0.94      0.94       500\n",
    "         8.0       0.92      0.98      0.95       500\n",
    "         9.0       0.96      0.95      0.95       500\n",
    "\n",
    "    accuracy                           0.88      5000\n",
    "   macro avg       0.88      0.88      0.88      5000\n",
    "weighted avg       0.88      0.88      0.88      5000\n",
    "\n",
    "===========VALIDATION REPORT============\n",
    "[[212   0   1   8   0   1  26   0   3   0]\n",
    " [  0 237   3   7   0   0   2   0   1   0]\n",
    " [  5   0 206   3  18   0  13   0   5   0]\n",
    " [  6   0   0 228   6   0   9   0   1   0]\n",
    " [  1   1  24   8 200   0  15   0   1   0]\n",
    " [  0   0   0   1   0 241   0   2   1   5]\n",
    " [ 34   0  28   3  19   0 165   0   1   0]\n",
    " [  0   0   0   0   0   8   0 230   1  11]\n",
    " [  0   0   1   1   1   0   1   2 244   0]\n",
    " [  0   0   0   0   0   6   0   8   1 235]]\n",
    "              precision    recall  f1-score   support\n",
    "\n",
    "         0.0       0.82      0.84      0.83       251\n",
    "         1.0       1.00      0.95      0.97       250\n",
    "         2.0       0.78      0.82      0.80       250\n",
    "         3.0       0.88      0.91      0.90       250\n",
    "         4.0       0.82      0.80      0.81       250\n",
    "         5.0       0.94      0.96      0.95       250\n",
    "         6.0       0.71      0.66      0.69       250\n",
    "         7.0       0.95      0.92      0.93       250\n",
    "         8.0       0.94      0.98      0.96       250\n",
    "         9.0       0.94      0.94      0.94       250\n",
    "\n",
    "    accuracy                           0.88      2501\n",
    "   macro avg       0.88      0.88      0.88      2501\n",
    "weighted avg       0.88      0.88      0.88      2501"
   ]
  }
 ],
 "metadata": {
  "kernelspec": {
   "display_name": "Python 3",
   "language": "python",
   "name": "python3"
  },
  "language_info": {
   "codemirror_mode": {
    "name": "ipython",
    "version": 3
   },
   "file_extension": ".py",
   "mimetype": "text/x-python",
   "name": "python",
   "nbconvert_exporter": "python",
   "pygments_lexer": "ipython3",
   "version": "3.6.8"
  }
 },
 "nbformat": 4,
 "nbformat_minor": 2
}
