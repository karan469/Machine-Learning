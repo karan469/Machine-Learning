{
 "cells": [
  {
   "cell_type": "code",
   "execution_count": 1,
   "metadata": {},
   "outputs": [],
   "source": [
    "from sklearn import svm\n",
    "import numpy as np\n",
    "import pandas as pd\n",
    "from matplotlib import pyplot as plt\n",
    "import pickle\n",
    "from sklearn.metrics import classification_report, confusion_matrix\n",
    "import matplotlib.pyplot as plt\n",
    "# import scikitplot as skplt\n",
    "from sklearn.metrics import accuracy_score\n",
    "from sklearn.model_selection import train_test_split\n",
    "from sklearn.model_selection import KFold\n",
    "from sklearn.preprocessing import MinMaxScaler\n",
    "from sklearn.model_selection import cross_val_score"
   ]
  },
  {
   "cell_type": "markdown",
   "metadata": {},
   "source": [
    "REPORT:\n",
    "for C = 1e-5\n",
    "    Val Accuracy: 0.47 (+/- 0.08)\n",
    "for C = 1e-3:\n",
    "    array([0.55866667, 0.55377778, 0.57711111, 0.57622222, 0.56644444])\n",
    "    Val Accuracy: 0.57 (+/- 0.02)\n",
    "for C = 1\n",
    "    array([0.878, 0.87688889, 0.88488889, 0.87244444, 0.88133333])\n",
    "    Val Accuracy: 0.88 (+/- 0.01)\n",
    "for C = 5\n",
    "    array([0.878     , 0.87688889, 0.88488889, 0.87244444, 0.88133333])\n",
    "    Val Accuracy: 0.88 (+/- 0.01)\n",
    "for C = 10\n",
    "    array([0.87888889, 0.884     , 0.89088889, 0.88422222, 0.88333333])\n",
    "    Val Accuracy: 0.88 (+/- 0.01)\n",
    "    Test Accuracy: 0.8824"
   ]
  },
  {
   "cell_type": "code",
   "execution_count": 2,
   "metadata": {},
   "outputs": [],
   "source": [
    "def loadCSV(filename, size):\n",
    "    n = np.zeros(shape = (size, image_size*image_size))\n",
    "    nn = np.zeros(shape = (size, 1))\n",
    "    \n",
    "    f = open(dest_folder+filename, 'r')\n",
    "    i = 0\n",
    "    for x in f:\n",
    "        lst = x.split(',')\n",
    "        nn[i] = np.asarray([lst[label]], dtype = np.float32)\n",
    "        n[i] = np.asarray(lst, dtype=np.float32)[:image_size*image_size]\n",
    "        i += 1\n",
    "    for i in range(size):\n",
    "        for j in range(image_size*image_size):\n",
    "            n[i][j] /= 255\n",
    "    return n, nn"
   ]
  },
  {
   "cell_type": "code",
   "execution_count": 3,
   "metadata": {},
   "outputs": [],
   "source": [
    "dest_folder = './fashion_mnist/'\n",
    "train_filename = 'train.csv'\n",
    "test_filename = 'test.csv'\n",
    "val_filename = 'val.csv'\n",
    "\n",
    "train_size = 22500\n",
    "test_size = 5000\n",
    "val_size = 2501\n",
    "image_size = 28\n",
    "label = 784\n",
    "num_classes = 10"
   ]
  },
  {
   "cell_type": "code",
   "execution_count": 4,
   "metadata": {},
   "outputs": [],
   "source": [
    "X1, Y1 = loadCSV(train_filename, train_size)\n",
    "X2, Y2 = loadCSV(test_filename, test_size)\n",
    "X3, Y3 = loadCSV(val_filename, val_size)\n",
    "\n",
    "y1 = Y1.reshape(1,train_size)[0]\n",
    "y2 = Y2.reshape(1,test_size)[0]\n",
    "y3 = Y3.reshape(1,val_size)[0]"
   ]
  },
  {
   "cell_type": "code",
   "execution_count": 15,
   "metadata": {},
   "outputs": [
    {
     "name": "stdout",
     "output_type": "stream",
     "text": [
      "0.5736\n"
     ]
    }
   ],
   "source": [
    "clf = svm.SVC(C = 1e-3, kernel = 'rbf', gamma = 0.05)\n",
    "scores = cross_val_score(clf, X1, y1, cv=5, n_jobs=-1)\n",
    "# print(\"Accuracy: %0.2f (+/- %0.2f)\" % (scores.mean(), scores.std() * 2))\n",
    "\n",
    "a = clf.fit(X1,y1)\n",
    "print(a.score(X2, y2))"
   ]
  },
  {
   "cell_type": "code",
   "execution_count": 12,
   "metadata": {},
   "outputs": [
    {
     "data": {
      "text/plain": [
       "array([0.87888889, 0.884     , 0.89088889, 0.88422222, 0.88333333])"
      ]
     },
     "execution_count": 12,
     "metadata": {},
     "output_type": "execute_result"
    }
   ],
   "source": [
    "scores"
   ]
  },
  {
   "cell_type": "code",
   "execution_count": 16,
   "metadata": {},
   "outputs": [
    {
     "data": {
      "image/png": "[encoded data removed]",
      "text/plain": [
       "<Figure size 432x288 with 1 Axes>"
      ]
     },
     "metadata": {
      "needs_background": "light"
     },
     "output_type": "display_data"
    }
   ],
   "source": [
    "x = np.array([1e-5, 1e-3, 1, 5, 10])\n",
    "val_scores = np.array([0.48, 0.57, 0.87, 0.88, 0.88])\n",
    "test_scores = np.array([0.53,0.5736,0.8662,0.8871,0.8824])\n",
    "from matplotlib import pyplot as plt\n",
    "\n",
    "plt.plot(x, test_scores, label = 'test_scores')\n",
    "plt.plot(x, val_scores, label = 'val_scores')\n",
    "plt.legend()\n",
    "plt.show()"
   ]
  },
  {
   "cell_type": "code",
   "execution_count": null,
   "metadata": {},
   "outputs": [],
   "source": []
  }
 ],
 "metadata": {
  "kernelspec": {
   "display_name": "Python 3",
   "language": "python",
   "name": "python3"
  },
  "language_info": {
   "codemirror_mode": {
    "name": "ipython",
    "version": 3
   },
   "file_extension": ".py",
   "mimetype": "text/x-python",
   "name": "python",
   "nbconvert_exporter": "python",
   "pygments_lexer": "ipython3",
   "version": "3.6.8"
  }
 },
 "nbformat": 4,
 "nbformat_minor": 2
}
