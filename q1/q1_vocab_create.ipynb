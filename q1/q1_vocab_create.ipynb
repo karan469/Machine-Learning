{
 "cells": [
  {
   "cell_type": "code",
   "execution_count": 1,
   "metadata": {},
   "outputs": [],
   "source": [
    "training_size = 1600000\n",
    "data_folder = 'trainingandtestdata'\n",
    "train_file = './'+data_folder+'/'+'training.csv'\n",
    "test_file = './' + data_folder+'/'+'testing.csv'\n",
    "\n",
    "# DO_STEM = True\n",
    "# DO_REMOVE_STOP = True"
   ]
  },
  {
   "cell_type": "code",
   "execution_count": 2,
   "metadata": {},
   "outputs": [],
   "source": [
    "# from nltk.stem import LancasterStemmer\n",
    "import pandas as pd\n",
    "# lancaster=LancasterStemmer()\n",
    "\n",
    "# from nltk.corpus import stopwords\n",
    "# stop_words = set(stopwords.words('english'))\n",
    "# stop_words.add('be')"
   ]
  },
  {
   "cell_type": "code",
   "execution_count": 3,
   "metadata": {},
   "outputs": [],
   "source": [
    "df = pd.read_csv(train_file)\n",
    "df2 = pd.read_csv('./' + data_folder + '/positive_wordbag.csv')\n",
    "df3 = pd.read_csv('./' + data_folder + '/negative_wordbag.csv')"
   ]
  },
  {
   "cell_type": "code",
   "execution_count": 7,
   "metadata": {},
   "outputs": [
    {
     "data": {
      "text/html": [
       "<div>\n",
       "<style scoped>\n",
       "    .dataframe tbody tr th:only-of-type {\n",
       "        vertical-align: middle;\n",
       "    }\n",
       "\n",
       "    .dataframe tbody tr th {\n",
       "        vertical-align: top;\n",
       "    }\n",
       "\n",
       "    .dataframe thead th {\n",
       "        text-align: right;\n",
       "    }\n",
       "</style>\n",
       "<table border=\"1\" class=\"dataframe\">\n",
       "  <thead>\n",
       "    <tr style=\"text-align: right;\">\n",
       "      <th></th>\n",
       "      <th>word</th>\n",
       "      <th>frequency</th>\n",
       "    </tr>\n",
       "  </thead>\n",
       "  <tbody>\n",
       "    <tr>\n",
       "      <th>0</th>\n",
       "      <td>im</td>\n",
       "      <td>76871</td>\n",
       "    </tr>\n",
       "    <tr>\n",
       "      <th>1</th>\n",
       "      <td>good</td>\n",
       "      <td>61738</td>\n",
       "    </tr>\n",
       "    <tr>\n",
       "      <th>2</th>\n",
       "      <td>love</td>\n",
       "      <td>47256</td>\n",
       "    </tr>\n",
       "    <tr>\n",
       "      <th>3</th>\n",
       "      <td>day</td>\n",
       "      <td>44828</td>\n",
       "    </tr>\n",
       "    <tr>\n",
       "      <th>4</th>\n",
       "      <td>like</td>\n",
       "      <td>37205</td>\n",
       "    </tr>\n",
       "    <tr>\n",
       "      <th>...</th>\n",
       "      <td>...</td>\n",
       "      <td>...</td>\n",
       "    </tr>\n",
       "    <tr>\n",
       "      <th>22767</th>\n",
       "      <td>ykyat</td>\n",
       "      <td>11</td>\n",
       "    </tr>\n",
       "    <tr>\n",
       "      <th>22768</th>\n",
       "      <td>cheerio</td>\n",
       "      <td>11</td>\n",
       "    </tr>\n",
       "    <tr>\n",
       "      <th>22769</th>\n",
       "      <td>gardener</td>\n",
       "      <td>11</td>\n",
       "    </tr>\n",
       "    <tr>\n",
       "      <th>22770</th>\n",
       "      <td>toasting</td>\n",
       "      <td>11</td>\n",
       "    </tr>\n",
       "    <tr>\n",
       "      <th>22771</th>\n",
       "      <td>awakened</td>\n",
       "      <td>11</td>\n",
       "    </tr>\n",
       "  </tbody>\n",
       "</table>\n",
       "<p>22772 rows × 2 columns</p>\n",
       "</div>"
      ],
      "text/plain": [
       "           word  frequency\n",
       "0            im      76871\n",
       "1          good      61738\n",
       "2          love      47256\n",
       "3           day      44828\n",
       "4          like      37205\n",
       "...         ...        ...\n",
       "22767     ykyat         11\n",
       "22768   cheerio         11\n",
       "22769  gardener         11\n",
       "22770  toasting         11\n",
       "22771  awakened         11\n",
       "\n",
       "[22772 rows x 2 columns]"
      ]
     },
     "execution_count": 7,
     "metadata": {},
     "output_type": "execute_result"
    }
   ],
   "source": [
    "df2"
   ]
  },
  {
   "cell_type": "code",
   "execution_count": 5,
   "metadata": {},
   "outputs": [],
   "source": [
    "vocab = {'word': [], 'frequency': []}\n",
    "for i in range(1, df2['word'].size):\n",
    "    if(df2['word'][i] in vocab['word']):\n",
    "        index =  vocab['word'].index(df2['word'][i])\n",
    "        vocab['frequency'][index] += df2['frequency'][i]\n",
    "    else:\n",
    "        vocab['word'].append(df2['word'][i])\n",
    "        vocab['frequency'].append(df2['frequency'][i])\n",
    "\n",
    "\n",
    "for i in range(1, df3['word'].size):\n",
    "    if(df3['word'][i] in vocab['word']):\n",
    "        index =  vocab['word'].index(df3['word'][i])\n",
    "        vocab['frequency'][index] += df3['frequency'][i]\n",
    "    else:\n",
    "        vocab['word'].append(df3['word'][i])\n",
    "        vocab['frequency'].append(df3['frequency'][i])"
   ]
  },
  {
   "cell_type": "code",
   "execution_count": 6,
   "metadata": {},
   "outputs": [
    {
     "data": {
      "text/plain": [
       "26924"
      ]
     },
     "execution_count": 6,
     "metadata": {},
     "output_type": "execute_result"
    }
   ],
   "source": [
    "len(vocab['word'])"
   ]
  },
  {
   "cell_type": "code",
   "execution_count": 7,
   "metadata": {},
   "outputs": [],
   "source": [
    "df4 = pd.DataFrame(vocab)\n",
    "df4.to_csv('./' + data_folder + '/wordbag.csv', index=False)"
   ]
  },
  {
   "cell_type": "code",
   "execution_count": null,
   "metadata": {},
   "outputs": [],
   "source": []
  }
 ],
 "metadata": {
  "kernelspec": {
   "display_name": "Python 3",
   "language": "python",
   "name": "python3"
  },
  "language_info": {
   "codemirror_mode": {
    "name": "ipython",
    "version": 3
   },
   "file_extension": ".py",
   "mimetype": "text/x-python",
   "name": "python",
   "nbconvert_exporter": "python",
   "pygments_lexer": "ipython3",
   "version": "3.7.0b4"
  }
 },
 "nbformat": 4,
 "nbformat_minor": 2
}
