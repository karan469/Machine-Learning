{
 "cells": [
  {
   "cell_type": "code",
   "execution_count": 1,
   "metadata": {},
   "outputs": [],
   "source": [
    "import matplotlib.pyplot as plt\n",
    "from matplotlib import gridspec\n",
    "from cvxopt import matrix, solvers\n",
    "from sklearn.svm import SVC\n",
    "import numpy as np\n",
    "\n",
    "parameters = {}\n",
    "KERNEL_LINEAR = 1\n",
    "KERNEL_RBF = 2\n",
    "\n",
    "DATASET_LINEARLY_SEPARABLE = 1\n",
    "DATASET_CIRCULAR = 2"
   ]
  },
  {
   "cell_type": "code",
   "execution_count": 2,
   "metadata": {},
   "outputs": [],
   "source": [
    "dest_folder = './fashion_mnist/'\n",
    "train_filename = 'train.csv'\n",
    "test_filename = 'test.csv'\n",
    "val_filename = 'val.csv'\n",
    "\n",
    "train_size = 22500\n",
    "test_size = 5000\n",
    "val_size = 2501\n",
    "image_size = 28\n",
    "label = 784"
   ]
  },
  {
   "cell_type": "code",
   "execution_count": 13,
   "metadata": {},
   "outputs": [],
   "source": [
    "def loadData(catagory, firstclass, secondclass):\n",
    "    if(catagory=='train'):\n",
    "        f = open(dest_folder+train_filename)\n",
    "    \n",
    "        X1 = np.zeros(shape = (4500, image_size*image_size))\n",
    "        Y1 = np.zeros(shape = (4500, 1))\n",
    "\n",
    "        it = 0\n",
    "        for x in f:\n",
    "            lst = x.split(',')\n",
    "            if(int(lst[len(lst)-1][0])!=firstclass and int(lst[len(lst)-1][0])!=secondclass):\n",
    "                continue\n",
    "            Y1[it] = np.asarray([lst[label]], dtype = np.float32)\n",
    "        #     print(Y1[it])\n",
    "            X1[it] = np.asarray(lst, dtype=np.float32)[:image_size*image_size]\n",
    "            it += 1\n",
    "\n",
    "        for j in range(4500):\n",
    "            for k in range(image_size*image_size):\n",
    "                X1[j][k] /= 255\n",
    "            if(Y1[j][0]==secondclass):\n",
    "                Y1[j][0] = -1\n",
    "            else:\n",
    "                Y1[j][0] = 1\n",
    "        y1 = Y1.reshape(1,4500)[0]\n",
    "\n",
    "        parameters['X'] = X1\n",
    "        parameters['y'] = y1\n",
    "        \n",
    "        return X1, y1\n",
    "    elif (catagory=='test'):\n",
    "        f = open(dest_folder+test_filename)\n",
    "        X2 = np.zeros(shape = (1000, image_size*image_size))\n",
    "        Y2 = np.zeros(shape = (1000, 1))\n",
    "\n",
    "        it = 0\n",
    "        for x in f:\n",
    "            lst = x.split(',')\n",
    "            if(int(lst[len(lst)-1][0])!=firstclass and int(lst[len(lst)-1][0])!=secondclass):\n",
    "                continue\n",
    "            Y2[it] = np.asarray([lst[label]], dtype = np.float32)\n",
    "            X2[it] = np.asarray(lst, dtype=np.float32)[:image_size*image_size]\n",
    "            it += 1\n",
    "\n",
    "        for j in range(1000):\n",
    "            for k in range(image_size*image_size):\n",
    "                X2[j][k] /= 255\n",
    "            if(Y2[j][0]==secondclass):\n",
    "                Y2[j][0] = -1\n",
    "            else:\n",
    "                Y2[j][0] = 1\n",
    "        y2 = Y2.reshape(1,1000)[0]\n",
    "        return X2, y2\n",
    "    elif(catagory=='val'):\n",
    "        f = open(dest_folder+val_filename)\n",
    "        X3 = np.zeros(shape = (500, image_size*image_size))\n",
    "        Y3 = np.zeros(shape = (500, 1))\n",
    "\n",
    "        it = 0\n",
    "        for x in f:\n",
    "            lst = x.split(',')\n",
    "            if(int(lst[len(lst)-1][0])!=firstclass and int(lst[len(lst)-1][0])!=secondclass):\n",
    "                continue\n",
    "            Y3[it] = np.asarray([lst[label]], dtype = np.float32)\n",
    "            X3[it] = np.asarray(lst, dtype=np.float32)[:image_size*image_size]\n",
    "            it += 1\n",
    "\n",
    "        for j in range(500):\n",
    "            for k in range(image_size*image_size):\n",
    "                X3[j][k] /= 255\n",
    "            if(Y3[j][0]==secondclass):\n",
    "                Y3[j][0] = -1\n",
    "            else:\n",
    "                Y3[j][0] = 1\n",
    "        y3 = Y3.reshape(1,500)[0]\n",
    "        return X3, y3"
   ]
  },
  {
   "cell_type": "code",
   "execution_count": 14,
   "metadata": {},
   "outputs": [],
   "source": [
    "X, y = loadData('val', 3, 4)"
   ]
  },
  {
   "cell_type": "code",
   "execution_count": 7,
   "metadata": {},
   "outputs": [],
   "source": [
    "X, y = generate_data(DATASET_LINEARLY_SEPARABLE)"
   ]
  },
  {
   "cell_type": "code",
   "execution_count": 8,
   "metadata": {},
   "outputs": [
    {
     "data": {
      "text/plain": [
       "(4500, 784)"
      ]
     },
     "execution_count": 8,
     "metadata": {},
     "output_type": "execute_result"
    }
   ],
   "source": [
    "X.shape"
   ]
  },
  {
   "cell_type": "code",
   "execution_count": 10,
   "metadata": {},
   "outputs": [],
   "source": [
    "def gram_matrix(X, Y, kernel_type, gamma=0.5):\n",
    "    K = np.zeros((X.shape[0], Y.shape[0]))\n",
    "    \n",
    "    if kernel_type == KERNEL_LINEAR:\n",
    "        for i, x in enumerate(X):\n",
    "            for j, y in enumerate(Y):\n",
    "                K[i, j] = np.dot(x.T, y)\n",
    "                \n",
    "    elif kernel_type == KERNEL_RBF:\n",
    "        for i, x in enumerate(X):\n",
    "            for j, y in enumerate(Y):\n",
    "                K[i, j] = np.exp(-gamma * np.linalg.norm(x - y) ** 2)\n",
    "        \n",
    "    return K\n",
    "def train_svm(kernel):\n",
    "    C = 1\n",
    "    n, k = X.shape\n",
    "    \n",
    "    y_matrix = y.reshape(1, -1)\n",
    "    H = np.dot(y_matrix.T, y_matrix) * gram_matrix(X, X, kernel)\n",
    "    P = matrix(H)\n",
    "    q = matrix(-np.ones((n, 1)))\n",
    "    G = matrix(np.vstack((-np.eye((n)), np.eye(n))))\n",
    "    h = matrix(np.vstack((np.zeros((n,1)), np.ones((n,1)) * C)))\n",
    "    A = matrix(y_matrix)\n",
    "    b = matrix(np.zeros(1))\n",
    "    \n",
    "    solvers.options['abstol'] = 1e-10\n",
    "    solvers.options['reltol'] = 1e-10\n",
    "    solvers.options['feastol'] = 1e-10\n",
    "    solvers.options['show_progress'] = False\n",
    "\n",
    "    return solvers.qp(P, q, G, h, A, b)\n",
    "def get_parameters(alphas):\n",
    "    threshold = 1e-5 # Values greater than zero (some floating point tolerance)\n",
    "    S = (alphas > threshold).reshape(-1, )\n",
    "    w = np.dot(X.T, alphas * y)\n",
    "    b = y[S] - np.dot(X[S], w) # b calculation\n",
    "    b = np.mean(b)\n",
    "    return w, b, S"
   ]
  },
  {
   "cell_type": "code",
   "execution_count": null,
   "metadata": {},
   "outputs": [],
   "source": [
    "svm_parameters = train_svm(KERNEL_LINEAR)\n",
    "alphas = np.array(svm_parameters['x'])[:, 0]\n",
    "w, b, S = get_parameters(alphas)\n",
    "print('Number of Support Vectors: %s'% alphas[S].shape[0])\n",
    "print('Alphas:', alphas[S])\n",
    "print('w and b', w, b)"
   ]
  },
  {
   "cell_type": "code",
   "execution_count": 11,
   "metadata": {},
   "outputs": [],
   "source": [
    "def valandtest():\n",
    "    p_count = 0\n",
    "    for i in range(len(y3)):\n",
    "        if((np.dot(w.T, X3[i]) + b > 0 and y3[i]==1) or (np.dot(w.T, X3[i]) + b < 0 and y3[i]==-1)):\n",
    "            p_count += 1\n",
    "\n",
    "    print('Validation accuracy: ', p_count/len(y3))\n",
    "\n",
    "    p_count = 0\n",
    "    for i in range(len(y2)):\n",
    "        if((np.dot(w.T, X2[i]) + b > 0 and y2[i]==1) or (np.dot(w.T, X2[i]) + b < 0 and y2[i]==-1)):\n",
    "            p_count += 1\n",
    "\n",
    "    print('Test accuracy: ', p_count/len(y2))"
   ]
  },
  {
   "cell_type": "code",
   "execution_count": null,
   "metadata": {},
   "outputs": [],
   "source": []
  }
 ],
 "metadata": {
  "kernelspec": {
   "display_name": "Python 3",
   "language": "python",
   "name": "python3"
  },
  "language_info": {
   "codemirror_mode": {
    "name": "ipython",
    "version": 3
   },
   "file_extension": ".py",
   "mimetype": "text/x-python",
   "name": "python",
   "nbconvert_exporter": "python",
   "pygments_lexer": "ipython3",
   "version": "3.6.8"
  }
 },
 "nbformat": 4,
 "nbformat_minor": 2
}
